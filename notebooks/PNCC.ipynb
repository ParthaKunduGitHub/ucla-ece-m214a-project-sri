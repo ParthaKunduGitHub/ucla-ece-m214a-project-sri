{
 "cells": [
  {
   "cell_type": "markdown",
   "metadata": {},
   "source": [
    "# <span style=\"color:red\"> ***** </span><span style=\"color:blue\"> Power Normalized Cepstral Coefficients (PNCC)</span> <span style=\"color:green\"> ***** </span>\n",
    "\n",
    "Power Normalized Cepstral Coefficients (PNCC) is an advanced feature extraction technique used in speech processing, particularly for robust speech recognition. Here's an overview of PNCC in speech extraction:\n",
    "Purpose: PNCC aims to improve speech recognition accuracy, especially in noisy environments or with reverberant speech.\n",
    "Advantages over MFCC: PNCC generally outperforms traditional Mel-Frequency Cepstral Coefficients (MFCC) in challenging acoustic conditions.\n",
    "\n",
    "Key components:\n",
    "\n",
    "Power-law nonlinearity\n",
    "\n",
    "Noise suppression mechanism\n",
    "\n",
    "Temporal masking\n",
    "\n",
    "Medium-time power analysis\n",
    "\n",
    "Frequency smoothing\n",
    "\n",
    "Noise robustness: PNCC is designed to be more resilient to various types of background noise and reverberation.\n",
    "Computational efficiency: While more complex than MFCC, PNCC maintains reasonable computational requirements.\n",
    "Auditory system modeling: PNCC incorporates elements that better model human auditory processing compared to traditional methods.\n",
    "Applications: Primarily used in automatic speech recognition systems, especially those operating in real-world, noisy environments.\n",
    "Implementation: Can be integrated into existing speech processing pipelines, often as a drop-in replacement for MFCC.\n",
    "PNCC represents a significant advancement in speech feature extraction, offering improved performance in challenging acoustic conditions while maintaining efficiency.\n"
   ]
  },
  {
   "cell_type": "markdown",
   "metadata": {},
   "source": [
    "# <span style=\"color:red\"> ***** </span><span style=\"color:blue\"> Project Data File Folder</span> <span style=\"color:green\"> ***** </span>"
   ]
  },
  {
   "cell_type": "code",
   "execution_count": 1,
   "metadata": {},
   "outputs": [],
   "source": [
    "import sys, os\n",
    "parent_dir = os.path.dirname(os.path.realpath('/Users/akpy27/Downloads/Untiltled'))"
   ]
  },
  {
   "cell_type": "code",
   "execution_count": 2,
   "metadata": {},
   "outputs": [
    {
     "name": "stdout",
     "output_type": "stream",
     "text": [
      "Parent Directory Path: /Users/akpy27/Downloads\n",
      "Project Path: /Users/akpy27/Downloads/Untitled\n"
     ]
    }
   ],
   "source": [
    "# To get one directory up from the current file\n",
    "project_dir = os.path.abspath(os.path.join(parent_dir, \"./Untitled/\"))\n",
    "\n",
    "sys.path.insert(0,project_dir)\n",
    "\n",
    "print ('Parent Directory Path:', parent_dir)\n",
    "print ('Project Path:', project_dir)"
   ]
  },
  {
   "cell_type": "code",
   "execution_count": 3,
   "metadata": {},
   "outputs": [
    {
     "name": "stderr",
     "output_type": "stream",
     "text": [
      "/Library/Frameworks/Python.framework/Versions/3.12/lib/python3.12/site-packages/tqdm/auto.py:21: TqdmWarning: IProgress not found. Please update jupyter and ipywidgets. See https://ipywidgets.readthedocs.io/en/stable/user_install.html\n",
      "  from .autonotebook import tqdm as notebook_tqdm\n"
     ]
    }
   ],
   "source": [
    "import librosa # type: ignore\n",
    "import torchaudio\n",
    "import numpy as np\n",
    "from glob import glob\n",
    "from tqdm import tqdm\n",
    "from sklearn.metrics import accuracy_score, classification_report\n",
    "from xgboost import XGBClassifier\n",
    "from scipy.fftpack import dct\n",
    "import soundfile as sf\n",
    "import noisereduce as nr\n",
    "from scipy.fftpack import dct"
   ]
  },
  {
   "cell_type": "markdown",
   "metadata": {},
   "source": [
    "# <span style=\"color:red\"> ***** </span><span style=\"color:blue\"> Feature Extraction</span> <span style=\"color:green\"> ***** </span>"
   ]
  },
  {
   "cell_type": "code",
   "execution_count": 4,
   "metadata": {},
   "outputs": [],
   "source": [
    "\n",
    "# PNCC feature extraction function\n",
    "\n",
    "def extract_pncc(audio_file, winlen=0.025, winstep=0.01, n_mels=40, n_pncc=13):\n",
    "    audio, fs = torchaudio.load(audio_file)\n",
    "    sr = fs\n",
    "    \n",
    "    # Ensure audio is mono by taking only one channel\n",
    "    if audio.shape[0] > 1:\n",
    "        audio = audio.mean(dim=0, keepdim=True)\n",
    "    \n",
    "    audio = audio.numpy().flatten()  # Flatten the array\n",
    "    \n",
    "    # Calculate n_fft based on audio length\n",
    "    n_fft = 2**int(np.ceil(np.log2(len(audio))))\n",
    "    \n",
    "    # Pre-emphasis\n",
    "    preemph_signal = librosa.effects.preemphasis(audio)\n",
    "\n",
    "    # STFT\n",
    "    hop_length = int(fs * winstep)\n",
    "    win_length = int(fs * winlen)\n",
    "    S = librosa.stft(preemph_signal, n_fft=n_fft, hop_length=hop_length, win_length=win_length)\n",
    "    power_spectrum = np.abs(S)**2\n",
    "\n",
    "    # Mel filterbank\n",
    "    mel_filters = librosa.filters.mel(sr=sr, n_fft=n_fft, n_mels=n_mels)\n",
    "    filtered_spectrum = np.dot(mel_filters, power_spectrum)\n",
    "\n",
    "    # Medium-time power analysis (mean over time)\n",
    "    medium_time_power = np.mean(filtered_spectrum, axis=1, keepdims=True)\n",
    "\n",
    "    # Asymmetric noise suppression\n",
    "    lambda_a, lambda_b = 0.999, 0.5\n",
    "    Q = np.zeros_like(filtered_spectrum)\n",
    "    \n",
    "    # Vectorized noise suppression using cumulative maximum\n",
    "    Q[:, 0] = filtered_spectrum[:, 0]\n",
    "    for t in range(1, filtered_spectrum.shape[1]):\n",
    "        Q[:, t] = np.maximum(filtered_spectrum[:, t], lambda_a * Q[:, t-1])\n",
    "\n",
    "    Q_floor = np.zeros_like(Q)\n",
    "    \n",
    "    # Vectorized floor calculation\n",
    "    for t in range(Q.shape[1]):\n",
    "        Q_floor[:, t] = np.minimum(Q[:, t], lambda_b * Q_floor[:, t-1] + (1 - lambda_b) * Q[:, t])\n",
    "\n",
    "    # Power law nonlinearity\n",
    "    power_law = 1 / 15\n",
    "    P = (Q - Q_floor) ** power_law\n",
    "\n",
    "    # Mean power normalization\n",
    "    P_norm = P / np.mean(P, axis=1, keepdims=True)\n",
    "\n",
    "    # DCT\n",
    "    pncc_features = dct(P_norm, type=2, axis=0, norm='ortho')[:n_pncc]\n",
    "\n",
    "    return pncc_features.T\n",
    "\n",
    "\n",
    "\n",
    "def get_label(file_name):\n",
    "  '''\n",
    "  Function to retrieve output labels from filenames\n",
    "  '''\n",
    "  if 'ROC' in file_name:\n",
    "    label=0\n",
    "  elif 'LES' in file_name:\n",
    "    label=1\n",
    "  elif 'DCB' in file_name:\n",
    "    label=2\n",
    "  elif 'PRV' in file_name:\n",
    "    label=3\n",
    "  elif 'VLD' in file_name:\n",
    "    label=4\n",
    "  elif 'DTA' in file_name:\n",
    "    label=5\n",
    "  else:\n",
    "    raise ValueError('invalid file name')\n",
    "  return label"
   ]
  },
  {
   "cell_type": "markdown",
   "metadata": {},
   "source": [
    "# <span style=\"color:red\"> ***** </span><span style=\"color:blue\"> Train and Test Data Preparation</span> <span style=\"color:green\"> ***** </span>"
   ]
  },
  {
   "cell_type": "code",
   "execution_count": 5,
   "metadata": {},
   "outputs": [
    {
     "name": "stderr",
     "output_type": "stream",
     "text": [
      "  0%|          | 0/8980 [00:00<?, ?it/s]/Library/Frameworks/Python.framework/Versions/3.12/lib/python3.12/site-packages/librosa/core/spectrum.py:266: UserWarning: n_fft=262144 is too large for input signal of length=220500\n",
      "  warnings.warn(\n",
      "  5%|▌         | 475/8980 [38:12<11:24:08,  4.83s/it]\n"
     ]
    },
    {
     "ename": "KeyboardInterrupt",
     "evalue": "",
     "output_type": "error",
     "traceback": [
      "\u001b[0;31m---------------------------------------------------------------------------\u001b[0m",
      "\u001b[0;31mKeyboardInterrupt\u001b[0m                         Traceback (most recent call last)",
      "Cell \u001b[0;32mIn[5], line 13\u001b[0m\n\u001b[1;32m     10\u001b[0m train_label\u001b[38;5;241m=\u001b[39m[]\n\u001b[1;32m     12\u001b[0m \u001b[38;5;28;01mfor\u001b[39;00m wav \u001b[38;5;129;01min\u001b[39;00m tqdm(train_files):\n\u001b[0;32m---> 13\u001b[0m   train_feat_pncc\u001b[38;5;241m.\u001b[39mappend(\u001b[43mextract_pncc\u001b[49m\u001b[43m(\u001b[49m\u001b[43mwav\u001b[49m\u001b[43m)\u001b[49m\u001b[38;5;241m.\u001b[39mmean(axis\u001b[38;5;241m=\u001b[39m\u001b[38;5;241m0\u001b[39m))\n\u001b[1;32m     14\u001b[0m   train_label\u001b[38;5;241m.\u001b[39mappend(get_label(wav))\n",
      "Cell \u001b[0;32mIn[4], line 22\u001b[0m, in \u001b[0;36mextract_pncc\u001b[0;34m(audio_file, winlen, winstep, n_mels, n_pncc)\u001b[0m\n\u001b[1;32m     20\u001b[0m hop_length \u001b[38;5;241m=\u001b[39m \u001b[38;5;28mint\u001b[39m(fs \u001b[38;5;241m*\u001b[39m winstep)\n\u001b[1;32m     21\u001b[0m win_length \u001b[38;5;241m=\u001b[39m \u001b[38;5;28mint\u001b[39m(fs \u001b[38;5;241m*\u001b[39m winlen)\n\u001b[0;32m---> 22\u001b[0m S \u001b[38;5;241m=\u001b[39m \u001b[43mlibrosa\u001b[49m\u001b[38;5;241;43m.\u001b[39;49m\u001b[43mstft\u001b[49m\u001b[43m(\u001b[49m\u001b[43mpreemph_signal\u001b[49m\u001b[43m,\u001b[49m\u001b[43m \u001b[49m\u001b[43mn_fft\u001b[49m\u001b[38;5;241;43m=\u001b[39;49m\u001b[43mn_fft\u001b[49m\u001b[43m,\u001b[49m\u001b[43m \u001b[49m\u001b[43mhop_length\u001b[49m\u001b[38;5;241;43m=\u001b[39;49m\u001b[43mhop_length\u001b[49m\u001b[43m,\u001b[49m\u001b[43m \u001b[49m\u001b[43mwin_length\u001b[49m\u001b[38;5;241;43m=\u001b[39;49m\u001b[43mwin_length\u001b[49m\u001b[43m)\u001b[49m\n\u001b[1;32m     23\u001b[0m power_spectrum \u001b[38;5;241m=\u001b[39m np\u001b[38;5;241m.\u001b[39mabs(S)\u001b[38;5;241m*\u001b[39m\u001b[38;5;241m*\u001b[39m\u001b[38;5;241m2\u001b[39m\n\u001b[1;32m     25\u001b[0m \u001b[38;5;66;03m# Mel filterbank\u001b[39;00m\n",
      "File \u001b[0;32m/Library/Frameworks/Python.framework/Versions/3.12/lib/python3.12/site-packages/librosa/core/spectrum.py:387\u001b[0m, in \u001b[0;36mstft\u001b[0;34m(y, n_fft, hop_length, win_length, window, center, dtype, pad_mode, out)\u001b[0m\n\u001b[1;32m    384\u001b[0m \u001b[38;5;28;01mfor\u001b[39;00m bl_s \u001b[38;5;129;01min\u001b[39;00m \u001b[38;5;28mrange\u001b[39m(\u001b[38;5;241m0\u001b[39m, y_frames\u001b[38;5;241m.\u001b[39mshape[\u001b[38;5;241m-\u001b[39m\u001b[38;5;241m1\u001b[39m], n_columns):\n\u001b[1;32m    385\u001b[0m     bl_t \u001b[38;5;241m=\u001b[39m \u001b[38;5;28mmin\u001b[39m(bl_s \u001b[38;5;241m+\u001b[39m n_columns, y_frames\u001b[38;5;241m.\u001b[39mshape[\u001b[38;5;241m-\u001b[39m\u001b[38;5;241m1\u001b[39m])\n\u001b[0;32m--> 387\u001b[0m     stft_matrix[\u001b[38;5;241m.\u001b[39m\u001b[38;5;241m.\u001b[39m\u001b[38;5;241m.\u001b[39m, bl_s \u001b[38;5;241m+\u001b[39m off_start : bl_t \u001b[38;5;241m+\u001b[39m off_start] \u001b[38;5;241m=\u001b[39m \u001b[43mfft\u001b[49m\u001b[38;5;241;43m.\u001b[39;49m\u001b[43mrfft\u001b[49m\u001b[43m(\u001b[49m\n\u001b[1;32m    388\u001b[0m \u001b[43m        \u001b[49m\u001b[43mfft_window\u001b[49m\u001b[43m \u001b[49m\u001b[38;5;241;43m*\u001b[39;49m\u001b[43m \u001b[49m\u001b[43my_frames\u001b[49m\u001b[43m[\u001b[49m\u001b[38;5;241;43m.\u001b[39;49m\u001b[38;5;241;43m.\u001b[39;49m\u001b[38;5;241;43m.\u001b[39;49m\u001b[43m,\u001b[49m\u001b[43m \u001b[49m\u001b[43mbl_s\u001b[49m\u001b[43m:\u001b[49m\u001b[43mbl_t\u001b[49m\u001b[43m]\u001b[49m\u001b[43m,\u001b[49m\u001b[43m \u001b[49m\u001b[43maxis\u001b[49m\u001b[38;5;241;43m=\u001b[39;49m\u001b[38;5;241;43m-\u001b[39;49m\u001b[38;5;241;43m2\u001b[39;49m\n\u001b[1;32m    389\u001b[0m \u001b[43m    \u001b[49m\u001b[43m)\u001b[49m\n\u001b[1;32m    390\u001b[0m \u001b[38;5;28;01mreturn\u001b[39;00m stft_matrix\n",
      "File \u001b[0;32m/Library/Frameworks/Python.framework/Versions/3.12/lib/python3.12/site-packages/numpy/fft/_pocketfft.py:409\u001b[0m, in \u001b[0;36mrfft\u001b[0;34m(a, n, axis, norm)\u001b[0m\n\u001b[1;32m    407\u001b[0m     n \u001b[38;5;241m=\u001b[39m a\u001b[38;5;241m.\u001b[39mshape[axis]\n\u001b[1;32m    408\u001b[0m inv_norm \u001b[38;5;241m=\u001b[39m _get_forward_norm(n, norm)\n\u001b[0;32m--> 409\u001b[0m output \u001b[38;5;241m=\u001b[39m \u001b[43m_raw_fft\u001b[49m\u001b[43m(\u001b[49m\u001b[43ma\u001b[49m\u001b[43m,\u001b[49m\u001b[43m \u001b[49m\u001b[43mn\u001b[49m\u001b[43m,\u001b[49m\u001b[43m \u001b[49m\u001b[43maxis\u001b[49m\u001b[43m,\u001b[49m\u001b[43m \u001b[49m\u001b[38;5;28;43;01mTrue\u001b[39;49;00m\u001b[43m,\u001b[49m\u001b[43m \u001b[49m\u001b[38;5;28;43;01mTrue\u001b[39;49;00m\u001b[43m,\u001b[49m\u001b[43m \u001b[49m\u001b[43minv_norm\u001b[49m\u001b[43m)\u001b[49m\n\u001b[1;32m    410\u001b[0m \u001b[38;5;28;01mreturn\u001b[39;00m output\n",
      "File \u001b[0;32m/Library/Frameworks/Python.framework/Versions/3.12/lib/python3.12/site-packages/numpy/fft/_pocketfft.py:73\u001b[0m, in \u001b[0;36m_raw_fft\u001b[0;34m(a, n, axis, is_real, is_forward, inv_norm)\u001b[0m\n\u001b[1;32m     71\u001b[0m \u001b[38;5;28;01melse\u001b[39;00m:\n\u001b[1;32m     72\u001b[0m     a \u001b[38;5;241m=\u001b[39m swapaxes(a, axis, \u001b[38;5;241m-\u001b[39m\u001b[38;5;241m1\u001b[39m)\n\u001b[0;32m---> 73\u001b[0m     r \u001b[38;5;241m=\u001b[39m \u001b[43mpfi\u001b[49m\u001b[38;5;241;43m.\u001b[39;49m\u001b[43mexecute\u001b[49m\u001b[43m(\u001b[49m\u001b[43ma\u001b[49m\u001b[43m,\u001b[49m\u001b[43m \u001b[49m\u001b[43mis_real\u001b[49m\u001b[43m,\u001b[49m\u001b[43m \u001b[49m\u001b[43mis_forward\u001b[49m\u001b[43m,\u001b[49m\u001b[43m \u001b[49m\u001b[43mfct\u001b[49m\u001b[43m)\u001b[49m\n\u001b[1;32m     74\u001b[0m     r \u001b[38;5;241m=\u001b[39m swapaxes(r, axis, \u001b[38;5;241m-\u001b[39m\u001b[38;5;241m1\u001b[39m)\n\u001b[1;32m     75\u001b[0m \u001b[38;5;28;01mreturn\u001b[39;00m r\n",
      "\u001b[0;31mKeyboardInterrupt\u001b[0m: "
     ]
    }
   ],
   "source": [
    "#First we obtain the list of all files in the train directory\n",
    "train_files = glob(project_dir + \"/project_data/train/*.wav\")\n",
    "\n",
    "#Let's sort it so that we're all using the same file list order\n",
    "#and you can continue processing the features from a given file if it stops\n",
    "#partway through running\n",
    "train_files.sort()\n",
    "\n",
    "train_feat_pncc=[]\n",
    "train_label=[]\n",
    "\n",
    "for wav in tqdm(train_files):\n",
    "  train_feat_pncc.append(extract_pncc(wav).mean(axis=0))\n",
    "  train_label.append(get_label(wav))"
   ]
  },
  {
   "cell_type": "code",
   "execution_count": null,
   "metadata": {},
   "outputs": [
    {
     "name": "stderr",
     "output_type": "stream",
     "text": [
      "100%|██████████| 2533/2533 [00:31<00:00, 80.81it/s]\n"
     ]
    }
   ],
   "source": [
    "#Now we obtain the list of all files in the test_clean directory\n",
    "test_clean_files = glob(project_dir + '/project_data/test_clean/*.wav')\n",
    "\n",
    "#Similar to above, we sort the files\n",
    "test_clean_files.sort()\n",
    "\n",
    "test_clean_feat_pncc=[]\n",
    "test_clean_label=[]\n",
    "\n",
    "for wav in tqdm(test_clean_files):\n",
    "\n",
    "  test_clean_feat_pncc.append(extract_pncc(wav).mean(axis=0))\n",
    "  test_clean_label.append(get_label(wav))"
   ]
  },
  {
   "cell_type": "code",
   "execution_count": null,
   "metadata": {},
   "outputs": [
    {
     "name": "stderr",
     "output_type": "stream",
     "text": [
      "  1%|          | 37/3238 [00:02<03:12, 16.63it/s]\n"
     ]
    },
    {
     "ename": "KeyboardInterrupt",
     "evalue": "",
     "output_type": "error",
     "traceback": [
      "\u001b[0;31m---------------------------------------------------------------------------\u001b[0m",
      "\u001b[0;31mKeyboardInterrupt\u001b[0m                         Traceback (most recent call last)",
      "Cell \u001b[0;32mIn[13], line 11\u001b[0m\n\u001b[1;32m      8\u001b[0m test_noisy_label\u001b[38;5;241m=\u001b[39m[]\n\u001b[1;32m     10\u001b[0m \u001b[38;5;28;01mfor\u001b[39;00m wav \u001b[38;5;129;01min\u001b[39;00m tqdm(test_noisy_files):\n\u001b[0;32m---> 11\u001b[0m   test_noisy_feat_pncc\u001b[38;5;241m.\u001b[39mappend(\u001b[43mextract_pncc\u001b[49m\u001b[43m(\u001b[49m\u001b[43mwav\u001b[49m\u001b[43m,\u001b[49m\u001b[43m \u001b[49m\u001b[43mnoise\u001b[49m\u001b[38;5;241;43m=\u001b[39;49m\u001b[38;5;28;43;01mTrue\u001b[39;49;00m\u001b[43m)\u001b[49m\u001b[38;5;241m.\u001b[39mmean(axis\u001b[38;5;241m=\u001b[39m\u001b[38;5;241m0\u001b[39m))\n\u001b[1;32m     12\u001b[0m   test_noisy_label\u001b[38;5;241m.\u001b[39mappend(get_label(wav))\n",
      "Cell \u001b[0;32mIn[4], line 19\u001b[0m, in \u001b[0;36mextract_pncc\u001b[0;34m(audio_file, n_pncc, noise)\u001b[0m\n\u001b[1;32m     16\u001b[0m   y_preemphasized \u001b[38;5;241m=\u001b[39m librosa\u001b[38;5;241m.\u001b[39meffects\u001b[38;5;241m.\u001b[39mpreemphasis(y\u001b[38;5;241m=\u001b[39maudio)\n\u001b[1;32m     18\u001b[0m \u001b[38;5;66;03m# Compute mel spectrogram with explicit parameters\u001b[39;00m\n\u001b[0;32m---> 19\u001b[0m S \u001b[38;5;241m=\u001b[39m \u001b[43mlibrosa\u001b[49m\u001b[38;5;241;43m.\u001b[39;49m\u001b[43mfeature\u001b[49m\u001b[38;5;241;43m.\u001b[39;49m\u001b[43mmelspectrogram\u001b[49m\u001b[43m(\u001b[49m\u001b[43my\u001b[49m\u001b[38;5;241;43m=\u001b[39;49m\u001b[43my_preemphasized\u001b[49m\u001b[43m,\u001b[49m\u001b[43m \u001b[49m\u001b[43msr\u001b[49m\u001b[38;5;241;43m=\u001b[39;49m\u001b[43mfs\u001b[49m\u001b[43m)\u001b[49m\n\u001b[1;32m     21\u001b[0m \u001b[38;5;66;03m# Convert to power spectrum\u001b[39;00m\n\u001b[1;32m     22\u001b[0m P \u001b[38;5;241m=\u001b[39m librosa\u001b[38;5;241m.\u001b[39mpower_to_db(S)\n",
      "File \u001b[0;32m/Library/Frameworks/Python.framework/Versions/3.12/lib/python3.12/site-packages/librosa/feature/spectral.py:2145\u001b[0m, in \u001b[0;36mmelspectrogram\u001b[0;34m(y, sr, S, n_fft, hop_length, win_length, window, center, pad_mode, power, **kwargs)\u001b[0m\n\u001b[1;32m   2142\u001b[0m \u001b[38;5;66;03m# Build a Mel filter\u001b[39;00m\n\u001b[1;32m   2143\u001b[0m mel_basis \u001b[38;5;241m=\u001b[39m filters\u001b[38;5;241m.\u001b[39mmel(sr\u001b[38;5;241m=\u001b[39msr, n_fft\u001b[38;5;241m=\u001b[39mn_fft, \u001b[38;5;241m*\u001b[39m\u001b[38;5;241m*\u001b[39mkwargs)\n\u001b[0;32m-> 2145\u001b[0m melspec: np\u001b[38;5;241m.\u001b[39mndarray \u001b[38;5;241m=\u001b[39m \u001b[43mnp\u001b[49m\u001b[38;5;241;43m.\u001b[39;49m\u001b[43meinsum\u001b[49m\u001b[43m(\u001b[49m\u001b[38;5;124;43m\"\u001b[39;49m\u001b[38;5;124;43m...ft,mf->...mt\u001b[39;49m\u001b[38;5;124;43m\"\u001b[39;49m\u001b[43m,\u001b[49m\u001b[43m \u001b[49m\u001b[43mS\u001b[49m\u001b[43m,\u001b[49m\u001b[43m \u001b[49m\u001b[43mmel_basis\u001b[49m\u001b[43m,\u001b[49m\u001b[43m \u001b[49m\u001b[43moptimize\u001b[49m\u001b[38;5;241;43m=\u001b[39;49m\u001b[38;5;28;43;01mTrue\u001b[39;49;00m\u001b[43m)\u001b[49m\n\u001b[1;32m   2146\u001b[0m \u001b[38;5;28;01mreturn\u001b[39;00m melspec\n",
      "File \u001b[0;32m/Library/Frameworks/Python.framework/Versions/3.12/lib/python3.12/site-packages/numpy/core/einsumfunc.py:1419\u001b[0m, in \u001b[0;36meinsum\u001b[0;34m(out, optimize, *operands, **kwargs)\u001b[0m\n\u001b[1;32m   1416\u001b[0m     right_pos\u001b[38;5;241m.\u001b[39mappend(input_right\u001b[38;5;241m.\u001b[39mfind(s))\n\u001b[1;32m   1418\u001b[0m \u001b[38;5;66;03m# Contract!\u001b[39;00m\n\u001b[0;32m-> 1419\u001b[0m new_view \u001b[38;5;241m=\u001b[39m \u001b[43mtensordot\u001b[49m\u001b[43m(\u001b[49m\u001b[38;5;241;43m*\u001b[39;49m\u001b[43mtmp_operands\u001b[49m\u001b[43m,\u001b[49m\u001b[43m \u001b[49m\u001b[43maxes\u001b[49m\u001b[38;5;241;43m=\u001b[39;49m\u001b[43m(\u001b[49m\u001b[38;5;28;43mtuple\u001b[39;49m\u001b[43m(\u001b[49m\u001b[43mleft_pos\u001b[49m\u001b[43m)\u001b[49m\u001b[43m,\u001b[49m\u001b[43m \u001b[49m\u001b[38;5;28;43mtuple\u001b[39;49m\u001b[43m(\u001b[49m\u001b[43mright_pos\u001b[49m\u001b[43m)\u001b[49m\u001b[43m)\u001b[49m\u001b[43m)\u001b[49m\n\u001b[1;32m   1421\u001b[0m \u001b[38;5;66;03m# Build a new view if needed\u001b[39;00m\n\u001b[1;32m   1422\u001b[0m \u001b[38;5;28;01mif\u001b[39;00m (tensor_result \u001b[38;5;241m!=\u001b[39m results_index) \u001b[38;5;129;01mor\u001b[39;00m handle_out:\n",
      "File \u001b[0;32m/Library/Frameworks/Python.framework/Versions/3.12/lib/python3.12/site-packages/numpy/core/numeric.py:1121\u001b[0m, in \u001b[0;36mtensordot\u001b[0;34m(a, b, axes)\u001b[0m\n\u001b[1;32m   1119\u001b[0m at \u001b[38;5;241m=\u001b[39m a\u001b[38;5;241m.\u001b[39mtranspose(newaxes_a)\u001b[38;5;241m.\u001b[39mreshape(newshape_a)\n\u001b[1;32m   1120\u001b[0m bt \u001b[38;5;241m=\u001b[39m b\u001b[38;5;241m.\u001b[39mtranspose(newaxes_b)\u001b[38;5;241m.\u001b[39mreshape(newshape_b)\n\u001b[0;32m-> 1121\u001b[0m res \u001b[38;5;241m=\u001b[39m \u001b[43mdot\u001b[49m\u001b[43m(\u001b[49m\u001b[43mat\u001b[49m\u001b[43m,\u001b[49m\u001b[43m \u001b[49m\u001b[43mbt\u001b[49m\u001b[43m)\u001b[49m\n\u001b[1;32m   1122\u001b[0m \u001b[38;5;28;01mreturn\u001b[39;00m res\u001b[38;5;241m.\u001b[39mreshape(olda \u001b[38;5;241m+\u001b[39m oldb)\n",
      "\u001b[0;31mKeyboardInterrupt\u001b[0m: "
     ]
    }
   ],
   "source": [
    "#Finally we obtain the list of all files in the test_noisy directory\n",
    "test_noisy_files = glob(project_dir + '/project_data/test_noisy/*.wav')\n",
    "\n",
    "#Similar to above, we sort the files\n",
    "test_noisy_files.sort()\n",
    "\n",
    "test_noisy_feat_pncc=[]\n",
    "test_noisy_label=[]\n",
    "\n",
    "for wav in tqdm(test_noisy_files):\n",
    "  test_noisy_feat_pncc.append(extract_pncc(wav).mean(axis=0))\n",
    "  test_noisy_label.append(get_label(wav))"
   ]
  },
  {
   "cell_type": "markdown",
   "metadata": {},
   "source": [
    "# <span style=\"color:red\"> ***** </span><span style=\"color:blue\"> Model Training and Predictions</span> <span style=\"color:green\"> ***** </span>"
   ]
  },
  {
   "cell_type": "code",
   "execution_count": null,
   "metadata": {},
   "outputs": [
    {
     "name": "stdout",
     "output_type": "stream",
     "text": [
      "Train Clean Acc = 0.9989977728285078\n",
      "Test Clean Acc = 0.2803000394788788\n",
      "Test Noisy Acc = 0.26158122297714637\n"
     ]
    }
   ],
   "source": [
    "import xgboost\n",
    "import numpy as np\n",
    "import shap\n",
    "import pandas as pd\n",
    "from sklearn.preprocessing import StandardScaler\n",
    "#Format input data\n",
    "\n",
    "#Edit this variable to create a list that contains your feature names\n",
    "feat_names_pncc=['pncc_' +str(n) for n in range(len(train_feat_pncc[0]))]\n",
    "\n",
    "train_feat_df_pncc = pd.DataFrame(data=np.stack(train_feat_pncc), columns=feat_names_pncc)\n",
    "y_train=np.stack(train_label)\n",
    "\n",
    "\n",
    "test_clean_feat_df_pncc = pd.DataFrame(data=np.stack(test_clean_feat_pncc), columns=feat_names_pncc)\n",
    "y_test_clean=np.stack(test_clean_label)\n",
    "\n",
    "\n",
    "test_noisy_feat_df_pncc = pd.DataFrame(data=np.stack(test_noisy_feat_pncc), columns=feat_names_pncc)\n",
    "y_test_noisy=np.stack(test_noisy_label)\n",
    "\n",
    "\n",
    "#you could just pass in the matrix of features to xgboost\n",
    "#but it looks prettier in the shap explainer if you format it\n",
    "#as a dataframe.\n",
    "\n",
    "\n",
    "model = xgboost.XGBClassifier()\n",
    "model.fit(train_feat_df_pncc,y_train)\n",
    "\n",
    "print(\"Train Clean Acc =\", np.sum(y_train==model.predict(train_feat_df_pncc))/len(y_train))\n",
    "\n",
    "print(\"Test Clean Acc =\", np.sum(y_test_clean==model.predict(test_clean_feat_df_pncc))/len(y_test_clean))\n",
    "\n",
    "print(\"Test Noisy Acc =\", np.sum(y_test_noisy==model.predict(test_noisy_feat_df_pncc))/len(y_test_noisy))"
   ]
  },
  {
   "cell_type": "markdown",
   "metadata": {},
   "source": [
    "# <span style=\"color:red\"> ***** </span><span style=\"color:blue\"> Interpreting Results and Explainability</span> <span style=\"color:green\"> ***** </span>"
   ]
  },
  {
   "cell_type": "code",
   "execution_count": null,
   "metadata": {},
   "outputs": [
    {
     "data": {
      "image/png": "[encoded data removed]",
      "text/plain": [
       "<Figure size 800x670 with 1 Axes>"
      ]
     },
     "metadata": {},
     "output_type": "display_data"
    }
   ],
   "source": [
    "import shap\n",
    "\n",
    "# Explain the model's predictions using SHAP by computing SHAP values\n",
    "explainer = shap.Explainer(model)\n",
    "shap_values = explainer.shap_values(train_feat_df_pncc)\n",
    "\n",
    "#Convert the shap values for each class to a single list\n",
    "shap_as_list=[]\n",
    "for i in range(6):\n",
    "    shap_as_list.append(shap_values[:,:,i])\n",
    "\n",
    "# Plot the SHAP values\n",
    "shap.summary_plot(shap_as_list, train_feat_df_pncc, plot_type=\"bar\")"
   ]
  },
  {
   "cell_type": "code",
   "execution_count": null,
   "metadata": {},
   "outputs": [],
   "source": [
    "from sklearn import metrics\n",
    "import matplotlib.pyplot as plt\n",
    "\n",
    "confusion_matrix_clean = metrics.confusion_matrix(y_test_clean, model.predict(test_clean_feat_df_pncc))\n",
    "cm_display = metrics.ConfusionMatrixDisplay(confusion_matrix = confusion_matrix_clean, display_labels = ['ROC','LES','DCB','PRV','VLD', 'DTA'])\n",
    "cm_display.plot()\n",
    "plt.show()"
   ]
  },
  {
   "cell_type": "code",
   "execution_count": null,
   "metadata": {},
   "outputs": [],
   "source": [
    "confusion_matrix_noisy = metrics.confusion_matrix(y_test_noisy, model.predict(test_noisy_feat_df_pncc))\n",
    "cm_display = metrics.ConfusionMatrixDisplay(confusion_matrix = confusion_matrix_noisy, display_labels = ['ROC','LES','DCB','PRV','VLD', 'DTA'])\n",
    "cm_display.plot()\n",
    "plt.show()"
   ]
  }
 ],
 "metadata": {
  "kernelspec": {
   "display_name": "Python 3",
   "language": "python",
   "name": "python3"
  },
  "language_info": {
   "codemirror_mode": {
    "name": "ipython",
    "version": 3
   },
   "file_extension": ".py",
   "mimetype": "text/x-python",
   "name": "python",
   "nbconvert_exporter": "python",
   "pygments_lexer": "ipython3",
   "version": "3.12.5"
  }
 },
 "nbformat": 4,
 "nbformat_minor": 2
}
