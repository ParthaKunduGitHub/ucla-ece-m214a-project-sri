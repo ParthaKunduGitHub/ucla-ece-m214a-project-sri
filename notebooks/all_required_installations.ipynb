{
 "cells": [
  {
   "cell_type": "code",
   "execution_count": null,
   "id": "initial_id",
   "metadata": {
    "ExecuteTime": {
     "end_time": "2024-06-09T21:00:46.464415Z",
     "start_time": "2024-06-09T20:57:12.717411Z"
    },
    "collapsed": true
   },
   "outputs": [],
   "source": [
    "!pip install numpy\n",
    "!pip install ucimlrepo\n",
    "!pip install torch\n",
    "!pip install torchvision\n",
    "!pip install torch torchvision torchaudio\n",
    "!pip uninstall -y seaborn==0.9.0\n",
    "!pip install seaborn==0.13.0\n",
    "!pip uninstall -y matplotlib\n",
    "!pip install matplotlib==3.7.3\n",
    "!pip install --upgrade seaborn\n",
    "!pip install --upgrade pip\n",
    "!pip install hdbscan\n",
    "!pip install umap-learn\n",
    "!pip install datasets\n",
    "!pip install seaborn\n",
    "!pip install --upgrade pip\n",
    "!pip install ydata_profiling\n",
    "!pip install -U ydata-profiling\n",
    "!pip install scikit-optimize\n",
    "!pip install lightgbm"
   ]
  }
 ],
 "metadata": {
  "kernelspec": {
   "display_name": "Python 3",
   "language": "python",
   "name": "python3"
  },
  "language_info": {
   "codemirror_mode": {
    "name": "ipython",
    "version": 3
   },
   "file_extension": ".py",
   "mimetype": "text/x-python",
   "name": "python",
   "nbconvert_exporter": "python",
   "pygments_lexer": "ipython3",
   "version": "3.11.9"
  }
 },
 "nbformat": 4,
 "nbformat_minor": 5
}
