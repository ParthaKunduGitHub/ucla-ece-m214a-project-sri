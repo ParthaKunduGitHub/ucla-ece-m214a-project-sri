{
  "cells": [
    {
      "cell_type": "markdown",
      "metadata": {},
      "source": [
        "\n",
        "<span style=\"color:green\"><h1>UCLA, Fall 2024 </span> <span style=\"color:yellow\"> ****</h1></span>\n",
        "<span style=\"color:blue\"><h2>Professor Abeer Alwan, alwan@ee.ucla.edu</span> <span style=\"color:yellow\"> ****</h2></span>\n",
        "<span style=\"color:blue\"><h3>Dept. of Electrical Engineering EE214A: Digital Speech Processing</span> <span style=\"color:yellow\"> ****</span>\n",
        "\n"
      ]
    },
    {
      "cell_type": "markdown",
      "metadata": {
        "id": "iUGt3c3glZcm"
      },
      "source": [
        "##ECE M214A Project: Speaker Region Identification\n",
        "\n"
      ]
    },
    {
      "cell_type": "markdown",
      "metadata": {
        "id": "U45DldLRvjGB"
      },
      "source": [
        "In this project, we'll train a machine learning algorithm to classify speakers by regional dialect.  We will use speech samples from the Corpus of Regional African American Language (CORAAL - https://oraal.github.io/coraal) with speakers each belonging to one of six different US cities: 1) Rochester, NY (ROC), 2) Lower East Side, Manhattan, NY (LES), 3) Washington DC (DCB), 4) Princeville, NC (PRV), 5) Valdosta, GA (VLD) or 6) Detroit, MI (DTA)\n",
        "\n",
        "The project files can be downloaded from [this link](https://ucla.box.com/s/mohh4fnmgj3vekui8i8n28i02odleaop)\n",
        "\n",
        "To do this, we will first extract features from the audio files and then train a classifier to predict the city of origin of the utterance's speaker.  The goal is to extract a feature that contains useful information about regional dialect characteristics."
      ]
    },
    {
      "cell_type": "markdown",
      "metadata": {
        "id": "3ZGgwhT7lsNZ"
      },
      "source": [
        "##1. Setting up the data directories and Google Colab"
      ]
    },
    {
      "cell_type": "markdown",
      "metadata": {
        "id": "zSI8N_Imwiwz"
      },
      "source": [
        "Store a copy of the project files in your google drive.\n",
        "\n",
        "Make sure that the 'project_data' folder is stored in the top level of your google drive. Otherwise, you will need to change the corresponding paths in the remainder of the notebook."
      ]
    },
    {
      "cell_type": "markdown",
      "metadata": {
        "id": "srmiFaC9xSw4"
      },
      "source": [
        "Mount your google drive. This will give this notebook read/write access to data stored in your google drive.  You can either do this in the file browser on the left side of this notebook or by running the code snippet below.\n",
        "\n",
        "It is recommended that you use your UCLA google account for this project, as it has more storage than a standard google account."
      ]
    },
    {
      "cell_type": "markdown",
      "metadata": {},
      "source": [
        "# <span style=\"color:orange\"> Required Common Imports - Packages/Modules/Libraries <span> "
      ]
    },
    {
      "cell_type": "code",
      "execution_count": null,
      "metadata": {},
      "outputs": [],
      "source": [
        "%pip install torchaudio\n",
        "%pip install --upgrade pip\n",
        "%pip install librosa\n",
        "%pip install xgboost\n",
        "%pip install tqdm\n",
        "%pip install panda\n",
        "%pip install shap\n",
        "%pip install matplotlib\n",
        "%pip install opensmile\n",
        "%pip install ipywidgets\n"
      ]
    },
    {
      "cell_type": "markdown",
      "metadata": {},
      "source": [
        "# <span style=\"color:orange\"> Print Environment Information <span>"
      ]
    },
    {
      "cell_type": "code",
      "execution_count": null,
      "metadata": {},
      "outputs": [],
      "source": [
        "import sys\n",
        "\n",
        "def is_colab():\n",
        "  return 'google.colab' in sys.modules\n",
        "\n",
        "if is_colab():\n",
        "  print(\"Running in Google Colab\")\n",
        "  !python --version\n",
        "else:\n",
        "  print(\"Not running in Google Colab\")\n",
        "  %pip --version\n",
        "  !python3 --version"
      ]
    },
    {
      "cell_type": "markdown",
      "metadata": {},
      "source": [
        "# <span style=\"color:yellow\"> **** </span><span style=\"color:red\"> Setting up environment based on Colab Vs Laptop </span> <span style=\"color:yellow\"> ****</span>\n"
      ]
    },
    {
      "cell_type": "code",
      "execution_count": null,
      "metadata": {},
      "outputs": [],
      "source": [
        "if is_colab():\n",
        "  print(\"*******  Running in Google Colab Environment *******\")\n",
        "  \n",
        "  from google.colab import userdata\n",
        "  gh_pat = userdata.get('gh_pat')\n",
        "  gh_username = userdata.get('gh_username')\n",
        "\n",
        "\n",
        "  # We have to 'mount' google drive to this notebook. This will allow us to access files from google drive here.\n",
        "  # You will be asked permission to grant access to your drive. Click 'Connect to Google Drive' when prompted and select the appropriate google account. Click on Continue untill window closes.\n",
        "\n",
        "  from google.colab import drive\n",
        "  drive.mount('/content/drive')\n",
        "\n",
        "  import sys, os\n",
        "  parent_dir = os.path.dirname(os.path.realpath('drive/MyDrive/ece_m214/'))\n",
        "  print (parent_dir)\n",
        "\n",
        "  # To get one directory up from the current file\n",
        "  project_dir = os.path.abspath(os.path.join(parent_dir, 'ece_m214/final_project'))\n",
        "\n",
        "  sys.path.insert(0,project_dir)\n",
        "\n",
        "  print ('Parent Directory Path:', parent_dir)\n",
        "  print ('Project Path:', project_dir)\n",
        "\n",
        "else:\n",
        "\n",
        "  print(\"*********  Running in Non - Google Colab Environment *********\")\n",
        "  \n",
        "  import sys, os\n",
        "\n",
        "  parent_dir = os.path.dirname(os.path.realpath('/Users/parthakundu/GitHub/my_ucla_grad_projects/'))\n",
        "  print (parent_dir)\n",
        "\n",
        "  # To get one directory up from the current file\n",
        "  # project_dir = os.path.abspath(os.path.join(parent_dir, 'drive/MyDrive/ece_m214/final_project/'))\n",
        "  project_dir = os.path.abspath(os.path.join(parent_dir, \"./my_ucla_grad_projects/ucla-ece-m214a-project-sri/\"))\n",
        "\n",
        "  sys.path.insert(0,project_dir)\n",
        "\n",
        "  print ('Parent Directory Path:', parent_dir)\n",
        "  print ('Project Path:', project_dir)\n"
      ]
    },
    {
      "cell_type": "markdown",
      "metadata": {},
      "source": [
        "# <span style=\"color:red\"> ***** </span><span style=\"color:blue\"> Execute all the cells from this point for all environment</span> <span style=\"color:green\"> ***** </span>"
      ]
    },
    {
      "cell_type": "code",
      "execution_count": null,
      "metadata": {},
      "outputs": [],
      "source": [
        "import os\n",
        "\n",
        "folder1_path = project_dir + \"/dataFrame\"\n",
        "folder2_path = project_dir + \"/images\"\n",
        "folder3_path = project_dir + \"/project_data\"\n",
        "folder4_path = project_dir + \"/zip_files\"\n",
        "\n",
        "os.makedirs(folder1_path, exist_ok=True)\n",
        "os.makedirs(folder2_path, exist_ok=True)\n",
        "os.makedirs(folder3_path, exist_ok=True)\n",
        "os.makedirs(folder4_path, exist_ok=True)"
      ]
    },
    {
      "cell_type": "markdown",
      "metadata": {},
      "source": [
        "# <span style=\"color:red\"> ***** </span><span style=\"color:orange\">Loading Initial/Given Dataset</span> <span style=\"color:green\"> ***** </span>"
      ]
    },
    {
      "cell_type": "code",
      "execution_count": null,
      "metadata": {},
      "outputs": [],
      "source": [
        "# #  Uncomment following line of codes and execute if you need unzip the provided package with dataset for the project.\n",
        "\n",
        "# import zipfile\n",
        "\n",
        "# with zipfile.ZipFile(parent_dir + '/ece_m214/final_project/F24 ECE M214A Project.zip', 'r') as zip_ref:\n",
        "#     zip_ref.extractall(parent_dir + '/ece_m214/final_project/')"
      ]
    },
    {
      "cell_type": "markdown",
      "metadata": {
        "id": "OUKk6flWvYVB"
      },
      "source": [
        "To run this project on your local system, replace the corresponding file paths to the locations of the project files on your local machine"
      ]
    },
    {
      "cell_type": "markdown",
      "metadata": {
        "id": "hon860bcmLDD"
      },
      "source": [
        "## 2. Getting familiar with the data"
      ]
    },
    {
      "cell_type": "markdown",
      "metadata": {
        "id": "UaEIHyQByAiy"
      },
      "source": [
        "\n",
        "Let's take a moment to understand the data.  The original CORAAL dataset consists of speakersfrom one of seven cities split into 8 components.  The audio files are names with the convention: DCB_se1_ag1_f_03.  Here, DCB is the city code, se1 denotes the socioeconomic group of the speaker, ag1 denotes the age group of the speaker, f denotes female, and 03 denotes the participant number.  These unique combinations of identifiers mark the speaker.  \n",
        "\n",
        "The dataset has been preprocessed to only include audio segments greater than 5 seconds in length. Those segments are numbered with the appending tag _{seg_number} for each segment.\n",
        "\n",
        "You can also try listening to any segment like this:"
      ]
    },
    {
      "cell_type": "code",
      "execution_count": null,
      "metadata": {
        "colab": {
          "base_uri": "https://localhost:8080/",
          "height": 75
        },
        "id": "NAiO3g1e9oN7",
        "outputId": "e4ede899-6dbd-4d43-ed1e-154d2ccac2e5"
      },
      "outputs": [],
      "source": [
        "from IPython.display import Audio\n",
        "\n",
        "sr = 44100\n",
        "\n",
        "Audio(filename= project_dir + \"/project_data/train/DCB_se1_ag2_m_01_1_11.wav\", rate=sr)"
      ]
    },
    {
      "cell_type": "markdown",
      "metadata": {
        "id": "1XvoR_iOmexS"
      },
      "source": [
        "The original dataset has also been split into a train and test set. The test set has been further split, with a portion corrupted with the addition of noise:"
      ]
    },
    {
      "cell_type": "code",
      "execution_count": null,
      "metadata": {
        "colab": {
          "base_uri": "https://localhost:8080/",
          "height": 75
        },
        "id": "dvvC5zhmeQzb",
        "outputId": "4bce931c-67fd-46e4-ceaa-9557a85eb593"
      },
      "outputs": [],
      "source": [
        "sr = 44100\n",
        "\n",
        "Audio(filename= project_dir + \"/project_data/test_clean/ROC_se0_ag2_f_01_1_396.wav\", rate=sr)"
      ]
    },
    {
      "cell_type": "code",
      "execution_count": null,
      "metadata": {
        "colab": {
          "base_uri": "https://localhost:8080/",
          "height": 75
        },
        "id": "iUVXpyyLGxds",
        "outputId": "c02768be-4f61-4836-c8a6-e3ab3192588c"
      },
      "outputs": [],
      "source": [
        "sr = 44100\n",
        "\n",
        "Audio(filename= project_dir + \"/project_data/test_noisy/VLD_se0_ag4_m_02_1_64.wav\", rate=sr)"
      ]
    },
    {
      "cell_type": "markdown",
      "metadata": {
        "id": "3Uu12stenzcx"
      },
      "source": [
        "## 3. Feature Extraction"
      ]
    },
    {
      "cell_type": "markdown",
      "metadata": {
        "id": "3QpW8VRs9t_c"
      },
      "source": [
        "As a baseline, we will be using the average mfcc value over time from the Librosa Python library. Your job will be to choose better features to improve performance on both the clean and noisy data"
      ]
    },
    {
      "cell_type": "markdown",
      "metadata": {
        "id": "zNEtHr-TapYg"
      },
      "source": [
        "We first define a pair of functions to create features and labels for our classification model:\n"
      ]
    },
    {
      "cell_type": "code",
      "execution_count": null,
      "metadata": {
        "id": "O8nOljY9x9Bo"
      },
      "outputs": [],
      "source": [
        "import librosa\n",
        "import torchaudio\n",
        "import numpy as np\n",
        "from glob import glob\n",
        "from tqdm import tqdm\n",
        "\n",
        "\n",
        "def extract_feature(audio_file, n_mfcc=13, preprocess=False):\n",
        "\n",
        "  '''\n",
        "  Function to extract features from a single audio file given its path\n",
        "  Modify this function to extract your own custom features\n",
        "  '''\n",
        "\n",
        "  audio,fs = torchaudio.load(audio_file)\n",
        "  audio = audio.numpy().reshape(-1)\n",
        "\n",
        "  if preprocess:\n",
        "    #write code to do preprocessing - scipy, librosa\n",
        "    audio = librosa.resample(audio, orig_sr=44100, target_sr=16000)\n",
        "\n",
        "  # replace the following features with your own - audiomentations, spafe\n",
        "  mfccs = librosa.feature.mfcc(y=audio, sr=fs, n_mfcc=n_mfcc)\n",
        "  delta1 = mfccs[:-1] - mfccs[1:]\n",
        "  delta2 = delta1[:-1] - delta1[1:]\n",
        "\n",
        "  mfccs = np.concatenate((mfccs, delta1, delta2))\n",
        "  #gtcc (gfcc), pncc\n",
        "  #whitening filter, spectral gating filter\n",
        "  feat_out = np.mean(mfccs,axis=1)\n",
        "\n",
        "  return feat_out\n",
        "\n",
        "\n",
        "def get_label(file_name):\n",
        "  '''\n",
        "  Function to retrieve output labels from filenames\n",
        "  '''\n",
        "  if 'ROC' in file_name:\n",
        "    label=0\n",
        "  elif 'LES' in file_name:\n",
        "    label=1\n",
        "  elif 'DCB' in file_name:\n",
        "    label=2\n",
        "  elif 'PRV' in file_name:\n",
        "    label=3\n",
        "  elif 'VLD' in file_name:\n",
        "    label=4\n",
        "  elif 'DTA' in file_name:\n",
        "    label=5\n",
        "  else:\n",
        "    raise ValueError('invalid file name')\n",
        "  return label"
      ]
    },
    {
      "cell_type": "markdown",
      "metadata": {
        "id": "ZAe_LnvKbCO_"
      },
      "source": [
        "Let us now call these functions to extract the features and labels from the train directory"
      ]
    },
    {
      "cell_type": "code",
      "execution_count": null,
      "metadata": {
        "colab": {
          "base_uri": "https://localhost:8080/"
        },
        "id": "4XdmLAGFYkaG",
        "outputId": "8ec22e60-2381-41de-e7c6-bfc232b96a24"
      },
      "outputs": [],
      "source": [
        "\n",
        "#First we obtain the list of all files in the train directory\n",
        "train_files = glob( project_dir + '/project_data/train/*.wav')\n",
        "\n",
        "#Let's sort it so that we're all using the same file list order\n",
        "#and you can continue processing the features from a given file if it stops\n",
        "#partway through running\n",
        "train_files.sort()\n",
        "\n",
        "train_feat=[]\n",
        "train_label=[]\n",
        "\n",
        "for wav in tqdm(train_files):\n",
        "\n",
        "  train_feat.append(extract_feature(wav))\n",
        "  train_label.append(get_label(wav))"
      ]
    },
    {
      "cell_type": "code",
      "execution_count": null,
      "metadata": {
        "colab": {
          "base_uri": "https://localhost:8080/"
        },
        "id": "UkyzBSo-bwOo",
        "outputId": "b077e2b1-50d6-4e9b-f552-f6e63ef20d69"
      },
      "outputs": [],
      "source": [
        "#Now we obtain the list of all files in the test_clean directory\n",
        "test_clean_files = glob(project_dir + '/project_data/test_clean/*.wav')\n",
        "\n",
        "#Similar to above, we sort the files\n",
        "test_clean_files.sort()\n",
        "\n",
        "test_clean_feat=[]\n",
        "test_clean_label=[]\n",
        "\n",
        "for wav in tqdm(test_clean_files):\n",
        "\n",
        "  test_clean_feat.append(extract_feature(wav))\n",
        "  test_clean_label.append(get_label(wav))"
      ]
    },
    {
      "cell_type": "code",
      "execution_count": null,
      "metadata": {
        "colab": {
          "base_uri": "https://localhost:8080/"
        },
        "id": "pP6-pNDQbxLU",
        "outputId": "7d931fa1-af77-4ff4-9872-fd5ec2d52054"
      },
      "outputs": [],
      "source": [
        "#Finally we obtain the list of all files in the test_noisy directory\n",
        "test_noisy_files = glob(project_dir + '/project_data/test_noisy/*.wav')\n",
        "\n",
        "#Similar to above, we sort the files\n",
        "test_noisy_files.sort()\n",
        "\n",
        "test_noisy_feat=[]\n",
        "test_noisy_label=[]\n",
        "\n",
        "for wav in tqdm(test_noisy_files):\n",
        "\n",
        "  test_noisy_feat.append(extract_feature(wav))\n",
        "  test_noisy_label.append(get_label(wav))"
      ]
    },
    {
      "cell_type": "markdown",
      "metadata": {
        "id": "Pw2ju2S9oUD-"
      },
      "source": [
        "## 4. Model Training and Predictions"
      ]
    },
    {
      "cell_type": "markdown",
      "metadata": {
        "id": "ssNxb69kMSCg"
      },
      "source": [
        "Now we'll train the backend system to predict the regions from the input features.  We'll use an xgboosted decision tree for this.  An advantage of this model is that we can also parse the decision tree and measure the impact of different features in the end result for explainability"
      ]
    },
    {
      "cell_type": "code",
      "execution_count": null,
      "metadata": {
        "colab": {
          "base_uri": "https://localhost:8080/"
        },
        "id": "DV1n9ZdOMzA2",
        "outputId": "76e8ea8b-8e78-4420-a780-be448e54d7ed"
      },
      "outputs": [],
      "source": [
        "# #Install shap library\n",
        "# %pip install shap"
      ]
    },
    {
      "cell_type": "code",
      "execution_count": null,
      "metadata": {
        "colab": {
          "base_uri": "https://localhost:8080/"
        },
        "id": "FdlSdywtJ0jm",
        "outputId": "054089af-deee-489c-e5a7-5415084b54fd"
      },
      "outputs": [],
      "source": [
        "import xgboost\n",
        "import numpy as np\n",
        "import shap\n",
        "import pandas as pd\n",
        "\n",
        "#Format input data\n",
        "\n",
        "#Edit this variable to create a list that contains your feature names\n",
        "feat_names=['mfcc_' +str(n) for n in range(len(train_feat[0]))]\n",
        "\n",
        "train_feat_df = pd.DataFrame(data=np.stack(train_feat), columns=feat_names)\n",
        "y_train=np.stack(train_label)\n",
        "\n",
        "\n",
        "test_clean_feat_df = pd.DataFrame(data=np.stack(test_clean_feat), columns=feat_names)\n",
        "y_test_clean=np.stack(test_clean_label)\n",
        "\n",
        "\n",
        "test_noisy_feat_df = pd.DataFrame(data=np.stack(test_noisy_feat), columns=feat_names)\n",
        "y_test_noisy=np.stack(test_noisy_label)\n",
        "\n",
        "\n",
        "#you could just pass in the matrix of features to xgboost\n",
        "#but it looks prettier in the shap explainer if you format it\n",
        "#as a dataframe.\n",
        "\n",
        "\n",
        "model = xgboost.XGBClassifier()\n",
        "model.fit(train_feat_df,y_train)\n",
        "\n",
        "print(\"Train Clean Acc =\", np.sum(y_train==model.predict(train_feat_df))/len(y_train))\n",
        "\n",
        "print(\"Test Clean Acc =\", np.sum(y_test_clean==model.predict(test_clean_feat_df))/len(y_test_clean))\n",
        "\n",
        "print(\"Test Noisy Acc =\", np.sum(y_test_noisy==model.predict(test_noisy_feat_df))/len(y_test_noisy))\n"
      ]
    },
    {
      "cell_type": "markdown",
      "metadata": {
        "id": "EU1Zv35-Xdfh"
      },
      "source": [
        "To save a dataframe of features, uncomment and run the following block of code"
      ]
    },
    {
      "cell_type": "code",
      "execution_count": null,
      "metadata": {
        "id": "zVCxaJuqXj8S"
      },
      "outputs": [],
      "source": [
        "train_feat_df.to_csv(project_dir + '/dataFrame/features/mfcc13_train.csv', )\n",
        "test_clean_feat_df.to_csv(project_dir + '/dataFrame/features/mfcc13_test_clean.csv')\n",
        "test_noisy_feat_df.to_csv(project_dir + '/dataFrame/features/mfcc13_test_noisy.csv')"
      ]
    },
    {
      "cell_type": "markdown",
      "metadata": {
        "id": "sS7zsBisXwgt"
      },
      "source": [
        "To Load a preexisting dataframe of features (saved from a previous notebook), run the following cell and then train the model"
      ]
    },
    {
      "cell_type": "code",
      "execution_count": null,
      "metadata": {
        "id": "AzXTGihBX8Py"
      },
      "outputs": [],
      "source": [
        "train_feat_df = pd.read_csv(project_dir + '/dataFrame/features/mfcc13_train.csv', index_col = 0)\n",
        "test_clean_feat_df = pd.read_csv(project_dir + '/dataFrame/features/mfcc13_test_clean.csv', index_col = 0)\n",
        "test_noisy_feat_df = pd.read_csv(project_dir + '/dataFrame/features/mfcc13_test_noisy.csv', index_col = 0)"
      ]
    },
    {
      "cell_type": "markdown",
      "metadata": {
        "id": "2-E5w5FsoeLK"
      },
      "source": [
        "## 5. Interpreting Results and Explainability"
      ]
    },
    {
      "cell_type": "markdown",
      "metadata": {
        "id": "x11o8qaNfSYT"
      },
      "source": [
        "To see the impact different features have on the model, we create a plot of the feature importances. The features are listed top to bottom in order of how important they were to the decision."
      ]
    },
    {
      "cell_type": "code",
      "execution_count": null,
      "metadata": {
        "colab": {
          "base_uri": "https://localhost:8080/",
          "height": 957
        },
        "id": "f7aXxyyBeLkE",
        "outputId": "fb6a10eb-06ea-41f9-dd24-1841a6b3b3d4"
      },
      "outputs": [],
      "source": [
        "import shap\n",
        "\n",
        "# Explain the model's predictions using SHAP by computing SHAP values\n",
        "explainer = shap.Explainer(model)\n",
        "shap_values = explainer.shap_values(train_feat_df)\n",
        "\n",
        "#Convert the shap values for each class to a single list\n",
        "shap_as_list=[]\n",
        "for i in range(6):\n",
        "    shap_as_list.append(shap_values[:,:,i])\n",
        "\n",
        "# Plot the SHAP values\n",
        "shap.summary_plot(shap_as_list, train_feat_df, plot_type=\"bar\")"
      ]
    },
    {
      "cell_type": "markdown",
      "metadata": {
        "id": "KlzXmcA-fd7x"
      },
      "source": [
        "And we can see a confusion matrix of the mispredictions"
      ]
    },
    {
      "cell_type": "code",
      "execution_count": null,
      "metadata": {
        "colab": {
          "base_uri": "https://localhost:8080/",
          "height": 451
        },
        "id": "e5xFg3P2fqj_",
        "outputId": "5fba059d-bdd2-4169-cedb-023735de4893"
      },
      "outputs": [],
      "source": [
        "from sklearn import metrics\n",
        "import matplotlib.pyplot as plt\n",
        "\n",
        "confusion_matrix_clean = metrics.confusion_matrix(y_test_clean, model.predict(test_clean_feat_df))\n",
        "cm_display = metrics.ConfusionMatrixDisplay(confusion_matrix = confusion_matrix_clean, display_labels = ['ROC','LES','DCB','PRV','VLD', 'DTA'])\n",
        "cm_display.plot()\n",
        "plt.show()\n",
        "\n"
      ]
    },
    {
      "cell_type": "code",
      "execution_count": null,
      "metadata": {
        "colab": {
          "base_uri": "https://localhost:8080/",
          "height": 449
        },
        "id": "K5S3VgD4TXQe",
        "outputId": "921be6e8-a15e-488a-9b76-17ca917ca5f9"
      },
      "outputs": [],
      "source": [
        "\n",
        "confusion_matrix_noisy = metrics.confusion_matrix(y_test_noisy, model.predict(test_noisy_feat_df))\n",
        "cm_display = metrics.ConfusionMatrixDisplay(confusion_matrix = confusion_matrix_noisy, display_labels = ['ROC','LES','DCB','PRV','VLD', 'DTA'])\n",
        "cm_display.plot()\n",
        "plt.show()"
      ]
    },
    {
      "cell_type": "markdown",
      "metadata": {
        "id": "w51dB7ngvoaI"
      },
      "source": [
        "# 6. We now repeat this with resampling"
      ]
    },
    {
      "cell_type": "code",
      "execution_count": null,
      "metadata": {
        "colab": {
          "base_uri": "https://localhost:8080/"
        },
        "id": "NCR46BwVvruE",
        "outputId": "81729546-9927-43b2-9d81-561558e34d19"
      },
      "outputs": [],
      "source": [
        "train_feat_rs=[]\n",
        "\n",
        "for wav in tqdm(train_files):\n",
        "\n",
        "  train_feat_rs.append(extract_feature(wav, preprocess=True))"
      ]
    },
    {
      "cell_type": "code",
      "execution_count": null,
      "metadata": {
        "colab": {
          "base_uri": "https://localhost:8080/"
        },
        "id": "wkQKf1x_v0VH",
        "outputId": "28392bff-bcc1-41be-f468-297b105e9133"
      },
      "outputs": [],
      "source": [
        "test_clean_feat_rs = []\n",
        "\n",
        "for wav in tqdm(test_clean_files):\n",
        "\n",
        "  test_clean_feat_rs.append(extract_feature(wav, preprocess=True))"
      ]
    },
    {
      "cell_type": "code",
      "execution_count": null,
      "metadata": {
        "colab": {
          "base_uri": "https://localhost:8080/"
        },
        "id": "8x_AFgTUv9jO",
        "outputId": "560e0b0a-0023-4f5e-d99d-5d589c5e83a0"
      },
      "outputs": [],
      "source": [
        "test_noisy_feat_rs = []\n",
        "\n",
        "for wav in tqdm(test_noisy_files):\n",
        "\n",
        "  test_noisy_feat_rs.append(extract_feature(wav, preprocess=True))"
      ]
    },
    {
      "cell_type": "code",
      "execution_count": null,
      "metadata": {
        "colab": {
          "base_uri": "https://localhost:8080/"
        },
        "id": "aqKUjECMwEre",
        "outputId": "57f3d17f-f81c-4d33-8ce0-28c4117a87ac"
      },
      "outputs": [],
      "source": [
        "train_feat_rs_df = pd.DataFrame(data=np.stack(train_feat_rs), columns=feat_names)\n",
        "\n",
        "test_clean_feat_rs_df = pd.DataFrame(data=np.stack(test_clean_feat_rs), columns=feat_names)\n",
        "\n",
        "test_noisy_feat_rs_df = pd.DataFrame(data=np.stack(test_noisy_feat_rs), columns=feat_names)\n",
        "\n",
        "\n",
        "model_rs = xgboost.XGBClassifier()\n",
        "model_rs.fit(train_feat_rs_df,y_train)\n",
        "\n",
        "print(\"Train Clean Resample Acc =\", np.sum(y_train==model_rs.predict(train_feat_rs_df))/len(y_train))\n",
        "\n",
        "print(\"Test Clean Resample Acc =\", np.sum(y_test_clean==model_rs.predict(test_clean_feat_rs_df))/len(y_test_clean))\n",
        "\n",
        "print(\"Test Noisy Resample Acc =\", np.sum(y_test_noisy==model_rs.predict(test_noisy_feat_rs_df))/len(y_test_noisy))\n"
      ]
    },
    {
      "cell_type": "code",
      "execution_count": null,
      "metadata": {
        "colab": {
          "base_uri": "https://localhost:8080/",
          "height": 957
        },
        "id": "sRSQQKOQwG6a",
        "outputId": "270e8742-3121-4fcf-f559-1ba302d2c52d"
      },
      "outputs": [],
      "source": [
        "import shap\n",
        "\n",
        "# Explain the model's predictions using SHAP by computing SHAP values\n",
        "explainer = shap.Explainer(model_rs)\n",
        "shap_values = explainer.shap_values(train_feat_rs_df)\n",
        "\n",
        "#Convert the shap values for each class to a single list\n",
        "shap_as_list=[]\n",
        "for i in range(6):\n",
        "    shap_as_list.append(shap_values[:,:,i])\n",
        "\n",
        "# Plot the SHAP values\n",
        "shap.summary_plot(shap_as_list, train_feat_rs_df, plot_type=\"bar\")"
      ]
    },
    {
      "cell_type": "code",
      "execution_count": null,
      "metadata": {
        "colab": {
          "base_uri": "https://localhost:8080/",
          "height": 449
        },
        "id": "dC8gimcYwJXe",
        "outputId": "568e1097-cf1b-42c7-db25-88360ec1021b"
      },
      "outputs": [],
      "source": [
        "confusion_matrix_clean_rs = metrics.confusion_matrix(y_test_clean, model_rs.predict(test_clean_feat_rs_df))\n",
        "cm_display = metrics.ConfusionMatrixDisplay(confusion_matrix = confusion_matrix_clean_rs, display_labels = ['ROC','LES','DCB','PRV','VLD', 'DTA'])\n",
        "cm_display.plot()\n",
        "plt.show()"
      ]
    },
    {
      "cell_type": "code",
      "execution_count": null,
      "metadata": {
        "colab": {
          "base_uri": "https://localhost:8080/",
          "height": 449
        },
        "id": "3-NLmRB5wPNb",
        "outputId": "a33a3bf1-1b45-4fd9-d561-ddb4abe143a6"
      },
      "outputs": [],
      "source": [
        "confusion_matrix_noisy_rs = metrics.confusion_matrix(y_test_noisy, model_rs.predict(test_noisy_feat_rs_df))\n",
        "cm_display = metrics.ConfusionMatrixDisplay(confusion_matrix = confusion_matrix_noisy_rs, display_labels = ['ROC','LES','DCB','PRV','VLD', 'DTA'])\n",
        "cm_display.plot()\n",
        "plt.show()"
      ]
    },
    {
      "cell_type": "markdown",
      "metadata": {
        "id": "tEYnji66uvtE"
      },
      "source": [
        "# 7. Using Opensmile"
      ]
    },
    {
      "cell_type": "markdown",
      "metadata": {
        "id": "hMmSDrns48uj"
      },
      "source": [
        "eGeMaps Feature Set:\n",
        "\n",
        "https://ieeexplore.ieee.org/stamp/stamp.jsp?tp=&arnumber=7160715"
      ]
    },
    {
      "cell_type": "code",
      "execution_count": null,
      "metadata": {
        "id": "mDHnGsbWxscG"
      },
      "outputs": [],
      "source": [
        "train_files = glob( project_dir + '/project_data/train/*.wav')\n",
        "test_clean_files = glob(project_dir + '/project_data/test_clean/*.wav')\n",
        "test_noisy_files = glob(project_dir + '/project_data/test_noisy/*.wav')"
      ]
    },
    {
      "cell_type": "code",
      "execution_count": null,
      "metadata": {
        "colab": {
          "base_uri": "https://localhost:8080/"
        },
        "id": "ZcIkKaD1uymf",
        "outputId": "b5877a43-9402-4b32-d92a-8f6db3b0cb3a"
      },
      "outputs": [],
      "source": [
        "# %pip install opensmile"
      ]
    },
    {
      "cell_type": "code",
      "execution_count": null,
      "metadata": {
        "colab": {
          "base_uri": "https://localhost:8080/"
        },
        "id": "PdGkZocSxFQu",
        "outputId": "8880ab86-930a-4e1e-879d-d426bd5e3154"
      },
      "outputs": [],
      "source": [
        "import opensmile\n",
        "smile = opensmile.Smile(\n",
        "      feature_set=opensmile.FeatureSet.ComParE_2016,\n",
        "      feature_level=opensmile.FeatureLevel.Functionals,\n",
        "  )\n",
        "\n",
        "len(smile.feature_names)"
      ]
    },
    {
      "cell_type": "code",
      "execution_count": null,
      "metadata": {
        "colab": {
          "base_uri": "https://localhost:8080/"
        },
        "id": "IN0OPWWyBABz",
        "outputId": "c17c66c9-704b-4fdb-c02d-1bf1a7ca0ea1"
      },
      "outputs": [],
      "source": [
        "smile.feature_names"
      ]
    },
    {
      "cell_type": "code",
      "execution_count": null,
      "metadata": {
        "colab": {
          "base_uri": "https://localhost:8080/"
        },
        "id": "ebZ7y8OL3DW7",
        "outputId": "92cd46de-6228-4cda-be19-daa4f16c1909"
      },
      "outputs": [],
      "source": [
        "smile2 = opensmile.Smile(\n",
        "    feature_set=opensmile.FeatureSet.eGeMAPSv02,\n",
        "    feature_level=opensmile.FeatureLevel.LowLevelDescriptors,\n",
        ")\n",
        "smile2.feature_names"
      ]
    },
    {
      "cell_type": "code",
      "execution_count": null,
      "metadata": {
        "colab": {
          "base_uri": "https://localhost:8080/"
        },
        "id": "RhB4XijzzR2l",
        "outputId": "7bfabd4d-96f6-401a-8460-457c05de0fbe"
      },
      "outputs": [],
      "source": [
        "len(smile2.feature_names)"
      ]
    },
    {
      "cell_type": "code",
      "execution_count": null,
      "metadata": {
        "id": "3Z6BGmIyuzLf"
      },
      "outputs": [],
      "source": [
        "import torchaudio\n",
        "import numpy as np\n",
        "def extract_smile(wav):\n",
        "\n",
        "  audio,sample_fs = torchaudio.load(wav)\n",
        "\n",
        "  sample_audio = audio.numpy().reshape(-1)\n",
        "\n",
        "  smile = opensmile.Smile(\n",
        "      feature_set=opensmile.FeatureSet.ComParE_2016,\n",
        "      feature_level=opensmile.FeatureLevel.Functionals,\n",
        "  )\n",
        "  # opensmile.FeatureSet.GeMAPSv01b\n",
        "  #opensmile.FeatureSet.ComParE_2016,\n",
        "  #opensmile.FeatureSet.eGeMAPSv02\n",
        "  y = smile.process_signal(\n",
        "      sample_audio,\n",
        "      sample_fs\n",
        "  )\n",
        "  return np.array(y.iloc[0])"
      ]
    },
    {
      "cell_type": "code",
      "execution_count": null,
      "metadata": {
        "id": "L2FO1pv3B5Jf"
      },
      "outputs": [],
      "source": [
        "wav = project_dir + \"/project_data/train/DCB_se1_ag2_m_01_1_11.wav\""
      ]
    },
    {
      "cell_type": "code",
      "execution_count": null,
      "metadata": {
        "colab": {
          "base_uri": "https://localhost:8080/"
        },
        "id": "klKC7mhVu3Xg",
        "outputId": "8b1997d9-435b-442d-e0da-1cc8d9c03412"
      },
      "outputs": [],
      "source": [
        "extract_smile(wav).shape"
      ]
    },
    {
      "cell_type": "code",
      "execution_count": null,
      "metadata": {
        "colab": {
          "base_uri": "https://localhost:8080/"
        },
        "id": "Uiu1u4OPzbEb",
        "outputId": "33b18f93-d7a9-4c5b-eca3-4eb79f6f1137"
      },
      "outputs": [],
      "source": [
        "train_feat_os=[]\n",
        "train_label = []\n",
        "\n",
        "for wav in tqdm(train_files):\n",
        "\n",
        "  train_feat_os.append(extract_smile(wav))\n",
        "  train_label.append(get_label(wav))"
      ]
    },
    {
      "cell_type": "code",
      "execution_count": null,
      "metadata": {
        "colab": {
          "base_uri": "https://localhost:8080/"
        },
        "id": "9uWoy2MRzphb",
        "outputId": "7462dc51-38a8-4a1d-c45c-2c07af54b7a3"
      },
      "outputs": [],
      "source": [
        "test_clean_feat_os=[]\n",
        "test_clean_label = []\n",
        "\n",
        "for wav in tqdm(test_clean_files):\n",
        "\n",
        "  test_clean_feat_os.append(extract_smile(wav))\n",
        "  test_clean_label.append(get_label(wav))"
      ]
    },
    {
      "cell_type": "code",
      "execution_count": null,
      "metadata": {
        "colab": {
          "base_uri": "https://localhost:8080/"
        },
        "id": "dwIfs_j4z5Dp",
        "outputId": "088509a0-1b7d-407f-c345-411579e0304c"
      },
      "outputs": [],
      "source": [
        "test_noisy_feat_os = []\n",
        "test_noisy_label = []\n",
        "\n",
        "for wav in tqdm(test_noisy_files):\n",
        "\n",
        "  test_noisy_feat_os.append(extract_smile(wav))\n",
        "  test_noisy_label.append(get_label(wav))"
      ]
    },
    {
      "cell_type": "code",
      "execution_count": null,
      "metadata": {
        "id": "4ZhU3w6i0ITd"
      },
      "outputs": [],
      "source": [
        "feat_names_os  = list(smile.feature_names)"
      ]
    },
    {
      "cell_type": "code",
      "execution_count": null,
      "metadata": {
        "id": "XFyKPkQSlNL4"
      },
      "outputs": [],
      "source": [
        "import re\n",
        "\n",
        "def remove_non_alphanumeric(feat_names_os):\n",
        "    \"\"\"\n",
        "    Remove all non-alphanumeric characters from entries in feat_names_os.\n",
        "\n",
        "    Args:\n",
        "        feat_names_os (list of str): List of feature names.\n",
        "\n",
        "    Returns:\n",
        "        list of str: List of cleaned feature names.\n",
        "    \"\"\"\n",
        "    cleaned_feat_names = [re.sub(r'\\W+', '', name) for name in feat_names_os]\n",
        "    return cleaned_feat_names\n",
        "\n",
        "feat_names_os = remove_non_alphanumeric(feat_names_os)"
      ]
    },
    {
      "cell_type": "code",
      "execution_count": null,
      "metadata": {
        "colab": {
          "base_uri": "https://localhost:8080/"
        },
        "id": "VLXFCqmpz5Dq",
        "outputId": "83571b05-74ed-4971-e290-3ad72be50684"
      },
      "outputs": [],
      "source": [
        "import pandas as pd\n",
        "import xgboost\n",
        "import numpy as np\n",
        "\n",
        "train_feat_os_df = pd.DataFrame(data=np.stack(train_feat_os), columns=feat_names_os)\n",
        "y_train=np.stack(train_label)\n",
        "\n",
        "test_clean_feat_os_df = pd.DataFrame(data=np.stack(test_clean_feat_os), columns=feat_names_os)\n",
        "y_test_clean=np.stack(test_clean_label)\n",
        "\n",
        "test_noisy_feat_os_df = pd.DataFrame(data=np.stack(test_noisy_feat_os), columns=feat_names_os)\n",
        "y_test_noisy=np.stack(test_noisy_label)\n",
        "\n",
        "model_os = xgboost.XGBClassifier()\n",
        "model_os.fit(train_feat_os_df,y_train)\n",
        "\n",
        "print(\"Train Clean Opensmile Acc =\", np.sum(y_train==model_os.predict(train_feat_os_df))/len(y_train))\n",
        "\n",
        "print(\"Test Clean Opensmile Acc =\", np.sum(y_test_clean==model_os.predict(test_clean_feat_os_df))/len(y_test_clean))\n",
        "\n",
        "print(\"Test Noisy Opensmile Acc =\", np.sum(y_test_noisy==model_os.predict(test_noisy_feat_os_df))/len(y_test_noisy))\n"
      ]
    },
    {
      "cell_type": "code",
      "execution_count": null,
      "metadata": {
        "colab": {
          "base_uri": "https://localhost:8080/",
          "height": 957
        },
        "id": "vXnI9y5Jz5Dq",
        "outputId": "0408887f-5882-4242-cf8a-c07fb291515f"
      },
      "outputs": [],
      "source": [
        "import shap\n",
        "\n",
        "# Explain the model's predictions using SHAP by computing SHAP values\n",
        "explainer = shap.Explainer(model_os)\n",
        "shap_values = explainer.shap_values(train_feat_os_df)\n",
        "\n",
        "#Convert the shap values for each class to a single list\n",
        "shap_as_list=[]\n",
        "for i in range(6):\n",
        "    shap_as_list.append(shap_values[:,:,i])\n",
        "\n",
        "# Plot the SHAP values\n",
        "shap.summary_plot(shap_as_list, train_feat_os_df, plot_type=\"bar\")"
      ]
    },
    {
      "cell_type": "code",
      "execution_count": null,
      "metadata": {
        "colab": {
          "base_uri": "https://localhost:8080/",
          "height": 449
        },
        "id": "qkGOtiBLz5Dq",
        "outputId": "a834d3e3-fdcd-4c59-9902-1c240f364d11"
      },
      "outputs": [],
      "source": [
        "from sklearn import metrics\n",
        "import matplotlib.pyplot as plt\n",
        "confusion_matrix_clean_os = metrics.confusion_matrix(y_test_clean, model_os.predict(test_clean_feat_os_df))\n",
        "cm_display = metrics.ConfusionMatrixDisplay(confusion_matrix = confusion_matrix_clean_os, display_labels = ['ROC','LES','DCB','PRV','VLD', 'DTA'])\n",
        "cm_display.plot()\n",
        "plt.show()"
      ]
    },
    {
      "cell_type": "code",
      "execution_count": null,
      "metadata": {
        "colab": {
          "base_uri": "https://localhost:8080/",
          "height": 449
        },
        "id": "jZuOSAwzz5Dq",
        "outputId": "6b4012a8-ce67-434c-f0b5-0f9717eaa774"
      },
      "outputs": [],
      "source": [
        "confusion_matrix_noisy_os = metrics.confusion_matrix(y_test_noisy, model_os.predict(test_noisy_feat_os_df))\n",
        "cm_display = metrics.ConfusionMatrixDisplay(confusion_matrix = confusion_matrix_noisy_os, display_labels = ['ROC','LES','DCB','PRV','VLD', 'DTA'])\n",
        "cm_display.plot()\n",
        "plt.show()"
      ]
    },
    {
      "cell_type": "code",
      "execution_count": null,
      "metadata": {
        "id": "3BWW3USjzK4A"
      },
      "outputs": [],
      "source": [
        "train_feat_os_df.to_csv(project_dir + '/dataFrame/features/os_train.csv')\n",
        "test_clean_feat_os_df.to_csv(project_dir + '/dataFrame/features/os_test_clean.csv')\n",
        "test_noisy_feat_os_df.to_csv(project_dir + '/dataFrame/features/os_test_noisy.csv')"
      ]
    },
    {
      "cell_type": "markdown",
      "metadata": {
        "id": "NWyWK2tev5wv"
      },
      "source": [
        "#9. Combining Multiple features"
      ]
    },
    {
      "cell_type": "code",
      "execution_count": null,
      "metadata": {
        "id": "OzvCvxgFv3dz"
      },
      "outputs": [],
      "source": [
        "import xgboost\n",
        "import numpy as np\n",
        "import shap\n",
        "import pandas as pd\n",
        "\n",
        "feature_name1 = \"mfcc13\"\n",
        "feature_name2 = \"os\"\n",
        "\n",
        "save_directory = project_dir + '/dataFrame/features/'\n",
        "\n",
        "#load csv\n",
        "train_feat1_df = pd.read_csv(f'{save_directory}/{feature_name1}_train.csv', index_col=0)\n",
        "test_clean_feat1_df = pd.read_csv(f'{save_directory}/{feature_name1}_test_clean.csv', index_col=0)\n",
        "test_noisy_feat1_df = pd.read_csv(f'{save_directory}/{feature_name1}_test_noisy.csv', index_col=0)\n",
        "\n",
        "train_feat2_df = pd.read_csv(f'{save_directory}/{feature_name2}_train.csv', index_col=0)\n",
        "test_clean_feat2_df = pd.read_csv(f'{save_directory}/{feature_name2}_test_clean.csv', index_col=0)\n",
        "test_noisy_feat2_df = pd.read_csv(f'{save_directory}/{feature_name2}_test_noisy.csv', index_col=0)\n",
        "\n",
        "train_feat_df = pd.concat([train_feat1_df, train_feat2_df], axis=1)\n",
        "test_clean_feat_df = pd.concat([test_clean_feat1_df, test_clean_feat2_df], axis=1)\n",
        "test_noisy_feat_df = pd.concat([test_noisy_feat1_df, test_noisy_feat2_df], axis=1)\n",
        "\n",
        "\n",
        "feat_names=['mfcc_' +str(n) for n in range(13)]\n",
        "feat_names+=list(smile.feature_names)\n",
        "\n",
        "y_train=np.stack(train_label)\n",
        "y_test_clean=np.stack(test_clean_label)\n",
        "y_test_noisy=np.stack(test_noisy_label)"
      ]
    },
    {
      "cell_type": "code",
      "execution_count": null,
      "metadata": {
        "colab": {
          "base_uri": "https://localhost:8080/"
        },
        "id": "N4PQPYKe03aF",
        "outputId": "8885265c-7aef-4975-b8b3-676fccb3e0d6"
      },
      "outputs": [],
      "source": [
        "model = xgboost.XGBClassifier()\n",
        "model.fit(train_feat_df,y_train)\n",
        "\n",
        "print(\"Train Clean Acc =\", np.sum(y_train==model.predict(train_feat_df))/len(y_train))\n",
        "\n",
        "print(\"Test Clean Acc =\", np.sum(y_test_clean==model.predict(test_clean_feat_df))/len(y_test_clean))\n",
        "\n",
        "print(\"Test Noisy Acc =\", np.sum(y_test_noisy==model.predict(test_noisy_feat_df))/len(y_test_noisy))"
      ]
    },
    {
      "cell_type": "markdown",
      "metadata": {
        "id": "1d_dZS26u-Mf"
      },
      "source": [
        "#Other features that may be useful:\n",
        "\n",
        "- PNCC\n",
        "\n",
        "- PLP\n",
        "\n",
        "- GTCC\n",
        "\n",
        "- i-vectors"
      ]
    },
    {
      "cell_type": "markdown",
      "metadata": {
        "id": "tm2egs-LBj3-"
      },
      "source": [
        "# Using speaker embeddings"
      ]
    },
    {
      "cell_type": "code",
      "execution_count": null,
      "metadata": {
        "colab": {
          "base_uri": "https://localhost:8080/"
        },
        "id": "aGhYHmqRBmY1",
        "outputId": "ba5c2e42-326c-4370-8ed2-9b979fa2f4b0"
      },
      "outputs": [],
      "source": [
        "!pip install speechbrain"
      ]
    },
    {
      "cell_type": "code",
      "execution_count": null,
      "metadata": {
        "colab": {
          "base_uri": "https://localhost:8080/",
          "height": 304,
          "referenced_widgets": [
            "9ed5787a1497402e87792848e318de7c",
            "2b25a28271464f44a622bf949444df3d",
            "01adb1a7462f4ff2958ae9ba9e63f3c6",
            "d67e69c210e948ddacfd8a919e317acb",
            "864131c8de5647f0bafa00b3cf527611",
            "3b7cfeb35f4b48dfb2672f90a823af9c",
            "405df7700528425dac902d3213d83443",
            "0085df99133243da8a44962abc44cc3a",
            "d89daeb37a4f42f1b392875c9e5db3c7",
            "de15ab7300044c1793a6e06d5b0370ff",
            "bb74fdf7ae0b425083db3c1838c154ad",
            "87348106b00b4894875ce86bf753dd59",
            "9cb897f4c96d4b3b8d0de431e6e84774",
            "87bb5e26305a4f33b79816106bbb571c",
            "901a398732f64770aff415f8f3a02cd3",
            "adbf95f4f22740818efcfbdbe9836206",
            "d8aec8dd20b340668bc668d63b195edd",
            "dc48ba53713343f08678b622087895d0",
            "62e8d76ae3d24cfca563c6fd9ac760d3",
            "d09ccf8d7ae34e11bb8a30a824a05e7b",
            "538f529cc89c40f6844035aaadb819ae",
            "edd3ce22d0de4d8c8a792bc5729383eb",
            "d915bcd40161404b804a812bd61b0b1b",
            "e028217f1c364237848a9e85d6ef04ed",
            "be62150192ab42f9ac1becfb40f25d93",
            "55d6e1bfc3ec4e9f873f1d3dcc92828e",
            "c10dec149789438c98cced403612ee76",
            "2d559822437b405b8adddc020ef4bb57",
            "dde91106e88d41b380f5c0c8a6d833c8",
            "466f97fcc4914c468e0c22dab1f77de4",
            "00bbd2b3fc48456782d7c80e078331b6",
            "86284183bc8a47f58029270d8480c305",
            "4669484d00414fdea4da0a0422bf2f62",
            "e6a009e6b4e14bc7a876a721f72d66df",
            "9b9e69114ae0434b8e6b9904ad5e3063",
            "216292cc8d864a5d815e04d52aa3eae4",
            "7a56121eba934b3688f0437adda85655",
            "5c1f03ad4121467eba947bf6e5f5d577",
            "46e00648b50d44da94209ff2d1c6ff73",
            "7c7a6ea6e6de4a7284fb64829e24b031",
            "d1aad718dc3f4affbae5d4cd1fecf4e6",
            "ce1316f634564f4aafa4cbfd2c65d440",
            "e1108fd4a7f64e7084a339b781c8cea5",
            "68f5ddeec9884d7dba7698fb0c4e8f37",
            "cf3768b96624431aa2456483dc289256",
            "cb816a6cab334d68b6df2682fa8519d6",
            "b3935b40383c4f8cbb023299a041abe1",
            "7cb6ade5e7b94526a53055163e11e777",
            "d7cca83e70f643c991f49b2e76431502",
            "0c1845aaf24e42d9aa0f6ba85c27e32b",
            "c588dc977f77445489ff6341b7fc0e6a",
            "05fa473c11db4b86b920c7e951b027de",
            "43b5fddf32be498994abd37644d5c338",
            "a6486dacaee24ebfbabc0ac74a8113f4",
            "e97fda45244d4133827d27548df46cba"
          ]
        },
        "id": "WrNh1qyRN41i",
        "outputId": "581a2413-af99-40cc-e5f4-3bc86dec393a"
      },
      "outputs": [],
      "source": [
        "import librosa\n",
        "import torch\n",
        "from speechbrain.inference.speaker import EncoderClassifier\n",
        "classifier = EncoderClassifier.from_hparams(source=\"speechbrain/spkrec-ecapa-voxceleb\")\n",
        "#ivectors, xvctors, or ecapa tdnn vectors\n"
      ]
    },
    {
      "cell_type": "code",
      "execution_count": null,
      "metadata": {
        "id": "1VNfxsMUBxbR"
      },
      "outputs": [],
      "source": [
        "wav = project_dir + \"/project_data/train/DCB_se1_ag2_m_01_1_11.wav\""
      ]
    },
    {
      "cell_type": "code",
      "execution_count": null,
      "metadata": {
        "colab": {
          "base_uri": "https://localhost:8080/"
        },
        "id": "_d0Pi_oPN6pp",
        "outputId": "5feb939d-da9e-48b7-9ea3-2fb97bf374bc"
      },
      "outputs": [],
      "source": [
        "audio, sample_rate = librosa.load(wav, sr=16000)\n",
        "\n",
        "# Compute speaker embedding for the segment\n",
        "signal = torch.tensor(audio).unsqueeze(0)  # Add batch dimension\n",
        "embedding = classifier.encode_batch(signal)\n",
        "\n",
        "embedding = embedding.detach().numpy().squeeze()\n",
        "\n",
        "# Now you have a single mean speaker embedding\n",
        "print(embedding.shape)"
      ]
    }
  ],
  "metadata": {
    "colab": {
      "provenance": []
    },
    "kernelspec": {
      "display_name": "Python 3",
      "name": "python3"
    },
    "language_info": {
      "codemirror_mode": {
        "name": "ipython",
        "version": 3
      },
      "file_extension": ".py",
      "mimetype": "text/x-python",
      "name": "python",
      "nbconvert_exporter": "python",
      "pygments_lexer": "ipython3",
      "version": "3.10.12"
    },
    "widgets": {
      "application/vnd.jupyter.widget-state+json": {
        "0085df99133243da8a44962abc44cc3a": {
          "model_module": "@jupyter-widgets/base",
          "model_module_version": "1.2.0",
          "model_name": "LayoutModel",
          "state": {
            "_model_module": "@jupyter-widgets/base",
            "_model_module_version": "1.2.0",
            "_model_name": "LayoutModel",
            "_view_count": null,
            "_view_module": "@jupyter-widgets/base",
            "_view_module_version": "1.2.0",
            "_view_name": "LayoutView",
            "align_content": null,
            "align_items": null,
            "align_self": null,
            "border": null,
            "bottom": null,
            "display": null,
            "flex": null,
            "flex_flow": null,
            "grid_area": null,
            "grid_auto_columns": null,
            "grid_auto_flow": null,
            "grid_auto_rows": null,
            "grid_column": null,
            "grid_gap": null,
            "grid_row": null,
            "grid_template_areas": null,
            "grid_template_columns": null,
            "grid_template_rows": null,
            "height": null,
            "justify_content": null,
            "justify_items": null,
            "left": null,
            "margin": null,
            "max_height": null,
            "max_width": null,
            "min_height": null,
            "min_width": null,
            "object_fit": null,
            "object_position": null,
            "order": null,
            "overflow": null,
            "overflow_x": null,
            "overflow_y": null,
            "padding": null,
            "right": null,
            "top": null,
            "visibility": null,
            "width": null
          }
        },
        "00bbd2b3fc48456782d7c80e078331b6": {
          "model_module": "@jupyter-widgets/controls",
          "model_module_version": "1.5.0",
          "model_name": "ProgressStyleModel",
          "state": {
            "_model_module": "@jupyter-widgets/controls",
            "_model_module_version": "1.5.0",
            "_model_name": "ProgressStyleModel",
            "_view_count": null,
            "_view_module": "@jupyter-widgets/base",
            "_view_module_version": "1.2.0",
            "_view_name": "StyleView",
            "bar_color": null,
            "description_width": ""
          }
        },
        "01adb1a7462f4ff2958ae9ba9e63f3c6": {
          "model_module": "@jupyter-widgets/controls",
          "model_module_version": "1.5.0",
          "model_name": "FloatProgressModel",
          "state": {
            "_dom_classes": [],
            "_model_module": "@jupyter-widgets/controls",
            "_model_module_version": "1.5.0",
            "_model_name": "FloatProgressModel",
            "_view_count": null,
            "_view_module": "@jupyter-widgets/controls",
            "_view_module_version": "1.5.0",
            "_view_name": "ProgressView",
            "bar_style": "success",
            "description": "",
            "description_tooltip": null,
            "layout": "IPY_MODEL_0085df99133243da8a44962abc44cc3a",
            "max": 1920,
            "min": 0,
            "orientation": "horizontal",
            "style": "IPY_MODEL_d89daeb37a4f42f1b392875c9e5db3c7",
            "value": 1920
          }
        },
        "05fa473c11db4b86b920c7e951b027de": {
          "model_module": "@jupyter-widgets/base",
          "model_module_version": "1.2.0",
          "model_name": "LayoutModel",
          "state": {
            "_model_module": "@jupyter-widgets/base",
            "_model_module_version": "1.2.0",
            "_model_name": "LayoutModel",
            "_view_count": null,
            "_view_module": "@jupyter-widgets/base",
            "_view_module_version": "1.2.0",
            "_view_name": "LayoutView",
            "align_content": null,
            "align_items": null,
            "align_self": null,
            "border": null,
            "bottom": null,
            "display": null,
            "flex": null,
            "flex_flow": null,
            "grid_area": null,
            "grid_auto_columns": null,
            "grid_auto_flow": null,
            "grid_auto_rows": null,
            "grid_column": null,
            "grid_gap": null,
            "grid_row": null,
            "grid_template_areas": null,
            "grid_template_columns": null,
            "grid_template_rows": null,
            "height": null,
            "justify_content": null,
            "justify_items": null,
            "left": null,
            "margin": null,
            "max_height": null,
            "max_width": null,
            "min_height": null,
            "min_width": null,
            "object_fit": null,
            "object_position": null,
            "order": null,
            "overflow": null,
            "overflow_x": null,
            "overflow_y": null,
            "padding": null,
            "right": null,
            "top": null,
            "visibility": null,
            "width": null
          }
        },
        "0c1845aaf24e42d9aa0f6ba85c27e32b": {
          "model_module": "@jupyter-widgets/base",
          "model_module_version": "1.2.0",
          "model_name": "LayoutModel",
          "state": {
            "_model_module": "@jupyter-widgets/base",
            "_model_module_version": "1.2.0",
            "_model_name": "LayoutModel",
            "_view_count": null,
            "_view_module": "@jupyter-widgets/base",
            "_view_module_version": "1.2.0",
            "_view_name": "LayoutView",
            "align_content": null,
            "align_items": null,
            "align_self": null,
            "border": null,
            "bottom": null,
            "display": null,
            "flex": null,
            "flex_flow": null,
            "grid_area": null,
            "grid_auto_columns": null,
            "grid_auto_flow": null,
            "grid_auto_rows": null,
            "grid_column": null,
            "grid_gap": null,
            "grid_row": null,
            "grid_template_areas": null,
            "grid_template_columns": null,
            "grid_template_rows": null,
            "height": null,
            "justify_content": null,
            "justify_items": null,
            "left": null,
            "margin": null,
            "max_height": null,
            "max_width": null,
            "min_height": null,
            "min_width": null,
            "object_fit": null,
            "object_position": null,
            "order": null,
            "overflow": null,
            "overflow_x": null,
            "overflow_y": null,
            "padding": null,
            "right": null,
            "top": null,
            "visibility": null,
            "width": null
          }
        },
        "216292cc8d864a5d815e04d52aa3eae4": {
          "model_module": "@jupyter-widgets/controls",
          "model_module_version": "1.5.0",
          "model_name": "FloatProgressModel",
          "state": {
            "_dom_classes": [],
            "_model_module": "@jupyter-widgets/controls",
            "_model_module_version": "1.5.0",
            "_model_name": "FloatProgressModel",
            "_view_count": null,
            "_view_module": "@jupyter-widgets/controls",
            "_view_module_version": "1.5.0",
            "_view_name": "ProgressView",
            "bar_style": "success",
            "description": "",
            "description_tooltip": null,
            "layout": "IPY_MODEL_d1aad718dc3f4affbae5d4cd1fecf4e6",
            "max": 5534328,
            "min": 0,
            "orientation": "horizontal",
            "style": "IPY_MODEL_ce1316f634564f4aafa4cbfd2c65d440",
            "value": 5534328
          }
        },
        "2b25a28271464f44a622bf949444df3d": {
          "model_module": "@jupyter-widgets/controls",
          "model_module_version": "1.5.0",
          "model_name": "HTMLModel",
          "state": {
            "_dom_classes": [],
            "_model_module": "@jupyter-widgets/controls",
            "_model_module_version": "1.5.0",
            "_model_name": "HTMLModel",
            "_view_count": null,
            "_view_module": "@jupyter-widgets/controls",
            "_view_module_version": "1.5.0",
            "_view_name": "HTMLView",
            "description": "",
            "description_tooltip": null,
            "layout": "IPY_MODEL_3b7cfeb35f4b48dfb2672f90a823af9c",
            "placeholder": "​",
            "style": "IPY_MODEL_405df7700528425dac902d3213d83443",
            "value": "hyperparams.yaml: 100%"
          }
        },
        "2d559822437b405b8adddc020ef4bb57": {
          "model_module": "@jupyter-widgets/base",
          "model_module_version": "1.2.0",
          "model_name": "LayoutModel",
          "state": {
            "_model_module": "@jupyter-widgets/base",
            "_model_module_version": "1.2.0",
            "_model_name": "LayoutModel",
            "_view_count": null,
            "_view_module": "@jupyter-widgets/base",
            "_view_module_version": "1.2.0",
            "_view_name": "LayoutView",
            "align_content": null,
            "align_items": null,
            "align_self": null,
            "border": null,
            "bottom": null,
            "display": null,
            "flex": null,
            "flex_flow": null,
            "grid_area": null,
            "grid_auto_columns": null,
            "grid_auto_flow": null,
            "grid_auto_rows": null,
            "grid_column": null,
            "grid_gap": null,
            "grid_row": null,
            "grid_template_areas": null,
            "grid_template_columns": null,
            "grid_template_rows": null,
            "height": null,
            "justify_content": null,
            "justify_items": null,
            "left": null,
            "margin": null,
            "max_height": null,
            "max_width": null,
            "min_height": null,
            "min_width": null,
            "object_fit": null,
            "object_position": null,
            "order": null,
            "overflow": null,
            "overflow_x": null,
            "overflow_y": null,
            "padding": null,
            "right": null,
            "top": null,
            "visibility": null,
            "width": null
          }
        },
        "3b7cfeb35f4b48dfb2672f90a823af9c": {
          "model_module": "@jupyter-widgets/base",
          "model_module_version": "1.2.0",
          "model_name": "LayoutModel",
          "state": {
            "_model_module": "@jupyter-widgets/base",
            "_model_module_version": "1.2.0",
            "_model_name": "LayoutModel",
            "_view_count": null,
            "_view_module": "@jupyter-widgets/base",
            "_view_module_version": "1.2.0",
            "_view_name": "LayoutView",
            "align_content": null,
            "align_items": null,
            "align_self": null,
            "border": null,
            "bottom": null,
            "display": null,
            "flex": null,
            "flex_flow": null,
            "grid_area": null,
            "grid_auto_columns": null,
            "grid_auto_flow": null,
            "grid_auto_rows": null,
            "grid_column": null,
            "grid_gap": null,
            "grid_row": null,
            "grid_template_areas": null,
            "grid_template_columns": null,
            "grid_template_rows": null,
            "height": null,
            "justify_content": null,
            "justify_items": null,
            "left": null,
            "margin": null,
            "max_height": null,
            "max_width": null,
            "min_height": null,
            "min_width": null,
            "object_fit": null,
            "object_position": null,
            "order": null,
            "overflow": null,
            "overflow_x": null,
            "overflow_y": null,
            "padding": null,
            "right": null,
            "top": null,
            "visibility": null,
            "width": null
          }
        },
        "405df7700528425dac902d3213d83443": {
          "model_module": "@jupyter-widgets/controls",
          "model_module_version": "1.5.0",
          "model_name": "DescriptionStyleModel",
          "state": {
            "_model_module": "@jupyter-widgets/controls",
            "_model_module_version": "1.5.0",
            "_model_name": "DescriptionStyleModel",
            "_view_count": null,
            "_view_module": "@jupyter-widgets/base",
            "_view_module_version": "1.2.0",
            "_view_name": "StyleView",
            "description_width": ""
          }
        },
        "43b5fddf32be498994abd37644d5c338": {
          "model_module": "@jupyter-widgets/controls",
          "model_module_version": "1.5.0",
          "model_name": "ProgressStyleModel",
          "state": {
            "_model_module": "@jupyter-widgets/controls",
            "_model_module_version": "1.5.0",
            "_model_name": "ProgressStyleModel",
            "_view_count": null,
            "_view_module": "@jupyter-widgets/base",
            "_view_module_version": "1.2.0",
            "_view_name": "StyleView",
            "bar_color": null,
            "description_width": ""
          }
        },
        "4669484d00414fdea4da0a0422bf2f62": {
          "model_module": "@jupyter-widgets/controls",
          "model_module_version": "1.5.0",
          "model_name": "DescriptionStyleModel",
          "state": {
            "_model_module": "@jupyter-widgets/controls",
            "_model_module_version": "1.5.0",
            "_model_name": "DescriptionStyleModel",
            "_view_count": null,
            "_view_module": "@jupyter-widgets/base",
            "_view_module_version": "1.2.0",
            "_view_name": "StyleView",
            "description_width": ""
          }
        },
        "466f97fcc4914c468e0c22dab1f77de4": {
          "model_module": "@jupyter-widgets/base",
          "model_module_version": "1.2.0",
          "model_name": "LayoutModel",
          "state": {
            "_model_module": "@jupyter-widgets/base",
            "_model_module_version": "1.2.0",
            "_model_name": "LayoutModel",
            "_view_count": null,
            "_view_module": "@jupyter-widgets/base",
            "_view_module_version": "1.2.0",
            "_view_name": "LayoutView",
            "align_content": null,
            "align_items": null,
            "align_self": null,
            "border": null,
            "bottom": null,
            "display": null,
            "flex": null,
            "flex_flow": null,
            "grid_area": null,
            "grid_auto_columns": null,
            "grid_auto_flow": null,
            "grid_auto_rows": null,
            "grid_column": null,
            "grid_gap": null,
            "grid_row": null,
            "grid_template_areas": null,
            "grid_template_columns": null,
            "grid_template_rows": null,
            "height": null,
            "justify_content": null,
            "justify_items": null,
            "left": null,
            "margin": null,
            "max_height": null,
            "max_width": null,
            "min_height": null,
            "min_width": null,
            "object_fit": null,
            "object_position": null,
            "order": null,
            "overflow": null,
            "overflow_x": null,
            "overflow_y": null,
            "padding": null,
            "right": null,
            "top": null,
            "visibility": null,
            "width": null
          }
        },
        "46e00648b50d44da94209ff2d1c6ff73": {
          "model_module": "@jupyter-widgets/base",
          "model_module_version": "1.2.0",
          "model_name": "LayoutModel",
          "state": {
            "_model_module": "@jupyter-widgets/base",
            "_model_module_version": "1.2.0",
            "_model_name": "LayoutModel",
            "_view_count": null,
            "_view_module": "@jupyter-widgets/base",
            "_view_module_version": "1.2.0",
            "_view_name": "LayoutView",
            "align_content": null,
            "align_items": null,
            "align_self": null,
            "border": null,
            "bottom": null,
            "display": null,
            "flex": null,
            "flex_flow": null,
            "grid_area": null,
            "grid_auto_columns": null,
            "grid_auto_flow": null,
            "grid_auto_rows": null,
            "grid_column": null,
            "grid_gap": null,
            "grid_row": null,
            "grid_template_areas": null,
            "grid_template_columns": null,
            "grid_template_rows": null,
            "height": null,
            "justify_content": null,
            "justify_items": null,
            "left": null,
            "margin": null,
            "max_height": null,
            "max_width": null,
            "min_height": null,
            "min_width": null,
            "object_fit": null,
            "object_position": null,
            "order": null,
            "overflow": null,
            "overflow_x": null,
            "overflow_y": null,
            "padding": null,
            "right": null,
            "top": null,
            "visibility": null,
            "width": null
          }
        },
        "538f529cc89c40f6844035aaadb819ae": {
          "model_module": "@jupyter-widgets/base",
          "model_module_version": "1.2.0",
          "model_name": "LayoutModel",
          "state": {
            "_model_module": "@jupyter-widgets/base",
            "_model_module_version": "1.2.0",
            "_model_name": "LayoutModel",
            "_view_count": null,
            "_view_module": "@jupyter-widgets/base",
            "_view_module_version": "1.2.0",
            "_view_name": "LayoutView",
            "align_content": null,
            "align_items": null,
            "align_self": null,
            "border": null,
            "bottom": null,
            "display": null,
            "flex": null,
            "flex_flow": null,
            "grid_area": null,
            "grid_auto_columns": null,
            "grid_auto_flow": null,
            "grid_auto_rows": null,
            "grid_column": null,
            "grid_gap": null,
            "grid_row": null,
            "grid_template_areas": null,
            "grid_template_columns": null,
            "grid_template_rows": null,
            "height": null,
            "justify_content": null,
            "justify_items": null,
            "left": null,
            "margin": null,
            "max_height": null,
            "max_width": null,
            "min_height": null,
            "min_width": null,
            "object_fit": null,
            "object_position": null,
            "order": null,
            "overflow": null,
            "overflow_x": null,
            "overflow_y": null,
            "padding": null,
            "right": null,
            "top": null,
            "visibility": null,
            "width": null
          }
        },
        "55d6e1bfc3ec4e9f873f1d3dcc92828e": {
          "model_module": "@jupyter-widgets/controls",
          "model_module_version": "1.5.0",
          "model_name": "HTMLModel",
          "state": {
            "_dom_classes": [],
            "_model_module": "@jupyter-widgets/controls",
            "_model_module_version": "1.5.0",
            "_model_name": "HTMLModel",
            "_view_count": null,
            "_view_module": "@jupyter-widgets/controls",
            "_view_module_version": "1.5.0",
            "_view_name": "HTMLView",
            "description": "",
            "description_tooltip": null,
            "layout": "IPY_MODEL_86284183bc8a47f58029270d8480c305",
            "placeholder": "​",
            "style": "IPY_MODEL_4669484d00414fdea4da0a0422bf2f62",
            "value": " 1.92k/1.92k [00:00&lt;00:00, 23.6kB/s]"
          }
        },
        "5c1f03ad4121467eba947bf6e5f5d577": {
          "model_module": "@jupyter-widgets/base",
          "model_module_version": "1.2.0",
          "model_name": "LayoutModel",
          "state": {
            "_model_module": "@jupyter-widgets/base",
            "_model_module_version": "1.2.0",
            "_model_name": "LayoutModel",
            "_view_count": null,
            "_view_module": "@jupyter-widgets/base",
            "_view_module_version": "1.2.0",
            "_view_name": "LayoutView",
            "align_content": null,
            "align_items": null,
            "align_self": null,
            "border": null,
            "bottom": null,
            "display": null,
            "flex": null,
            "flex_flow": null,
            "grid_area": null,
            "grid_auto_columns": null,
            "grid_auto_flow": null,
            "grid_auto_rows": null,
            "grid_column": null,
            "grid_gap": null,
            "grid_row": null,
            "grid_template_areas": null,
            "grid_template_columns": null,
            "grid_template_rows": null,
            "height": null,
            "justify_content": null,
            "justify_items": null,
            "left": null,
            "margin": null,
            "max_height": null,
            "max_width": null,
            "min_height": null,
            "min_width": null,
            "object_fit": null,
            "object_position": null,
            "order": null,
            "overflow": null,
            "overflow_x": null,
            "overflow_y": null,
            "padding": null,
            "right": null,
            "top": null,
            "visibility": null,
            "width": null
          }
        },
        "62e8d76ae3d24cfca563c6fd9ac760d3": {
          "model_module": "@jupyter-widgets/base",
          "model_module_version": "1.2.0",
          "model_name": "LayoutModel",
          "state": {
            "_model_module": "@jupyter-widgets/base",
            "_model_module_version": "1.2.0",
            "_model_name": "LayoutModel",
            "_view_count": null,
            "_view_module": "@jupyter-widgets/base",
            "_view_module_version": "1.2.0",
            "_view_name": "LayoutView",
            "align_content": null,
            "align_items": null,
            "align_self": null,
            "border": null,
            "bottom": null,
            "display": null,
            "flex": null,
            "flex_flow": null,
            "grid_area": null,
            "grid_auto_columns": null,
            "grid_auto_flow": null,
            "grid_auto_rows": null,
            "grid_column": null,
            "grid_gap": null,
            "grid_row": null,
            "grid_template_areas": null,
            "grid_template_columns": null,
            "grid_template_rows": null,
            "height": null,
            "justify_content": null,
            "justify_items": null,
            "left": null,
            "margin": null,
            "max_height": null,
            "max_width": null,
            "min_height": null,
            "min_width": null,
            "object_fit": null,
            "object_position": null,
            "order": null,
            "overflow": null,
            "overflow_x": null,
            "overflow_y": null,
            "padding": null,
            "right": null,
            "top": null,
            "visibility": null,
            "width": null
          }
        },
        "68f5ddeec9884d7dba7698fb0c4e8f37": {
          "model_module": "@jupyter-widgets/controls",
          "model_module_version": "1.5.0",
          "model_name": "DescriptionStyleModel",
          "state": {
            "_model_module": "@jupyter-widgets/controls",
            "_model_module_version": "1.5.0",
            "_model_name": "DescriptionStyleModel",
            "_view_count": null,
            "_view_module": "@jupyter-widgets/base",
            "_view_module_version": "1.2.0",
            "_view_name": "StyleView",
            "description_width": ""
          }
        },
        "7a56121eba934b3688f0437adda85655": {
          "model_module": "@jupyter-widgets/controls",
          "model_module_version": "1.5.0",
          "model_name": "HTMLModel",
          "state": {
            "_dom_classes": [],
            "_model_module": "@jupyter-widgets/controls",
            "_model_module_version": "1.5.0",
            "_model_name": "HTMLModel",
            "_view_count": null,
            "_view_module": "@jupyter-widgets/controls",
            "_view_module_version": "1.5.0",
            "_view_name": "HTMLView",
            "description": "",
            "description_tooltip": null,
            "layout": "IPY_MODEL_e1108fd4a7f64e7084a339b781c8cea5",
            "placeholder": "​",
            "style": "IPY_MODEL_68f5ddeec9884d7dba7698fb0c4e8f37",
            "value": " 5.53M/5.53M [00:00&lt;00:00, 22.9MB/s]"
          }
        },
        "7c7a6ea6e6de4a7284fb64829e24b031": {
          "model_module": "@jupyter-widgets/controls",
          "model_module_version": "1.5.0",
          "model_name": "DescriptionStyleModel",
          "state": {
            "_model_module": "@jupyter-widgets/controls",
            "_model_module_version": "1.5.0",
            "_model_name": "DescriptionStyleModel",
            "_view_count": null,
            "_view_module": "@jupyter-widgets/base",
            "_view_module_version": "1.2.0",
            "_view_name": "StyleView",
            "description_width": ""
          }
        },
        "7cb6ade5e7b94526a53055163e11e777": {
          "model_module": "@jupyter-widgets/controls",
          "model_module_version": "1.5.0",
          "model_name": "HTMLModel",
          "state": {
            "_dom_classes": [],
            "_model_module": "@jupyter-widgets/controls",
            "_model_module_version": "1.5.0",
            "_model_name": "HTMLModel",
            "_view_count": null,
            "_view_module": "@jupyter-widgets/controls",
            "_view_module_version": "1.5.0",
            "_view_name": "HTMLView",
            "description": "",
            "description_tooltip": null,
            "layout": "IPY_MODEL_a6486dacaee24ebfbabc0ac74a8113f4",
            "placeholder": "​",
            "style": "IPY_MODEL_e97fda45244d4133827d27548df46cba",
            "value": " 129k/129k [00:00&lt;00:00, 717kB/s]"
          }
        },
        "86284183bc8a47f58029270d8480c305": {
          "model_module": "@jupyter-widgets/base",
          "model_module_version": "1.2.0",
          "model_name": "LayoutModel",
          "state": {
            "_model_module": "@jupyter-widgets/base",
            "_model_module_version": "1.2.0",
            "_model_name": "LayoutModel",
            "_view_count": null,
            "_view_module": "@jupyter-widgets/base",
            "_view_module_version": "1.2.0",
            "_view_name": "LayoutView",
            "align_content": null,
            "align_items": null,
            "align_self": null,
            "border": null,
            "bottom": null,
            "display": null,
            "flex": null,
            "flex_flow": null,
            "grid_area": null,
            "grid_auto_columns": null,
            "grid_auto_flow": null,
            "grid_auto_rows": null,
            "grid_column": null,
            "grid_gap": null,
            "grid_row": null,
            "grid_template_areas": null,
            "grid_template_columns": null,
            "grid_template_rows": null,
            "height": null,
            "justify_content": null,
            "justify_items": null,
            "left": null,
            "margin": null,
            "max_height": null,
            "max_width": null,
            "min_height": null,
            "min_width": null,
            "object_fit": null,
            "object_position": null,
            "order": null,
            "overflow": null,
            "overflow_x": null,
            "overflow_y": null,
            "padding": null,
            "right": null,
            "top": null,
            "visibility": null,
            "width": null
          }
        },
        "864131c8de5647f0bafa00b3cf527611": {
          "model_module": "@jupyter-widgets/base",
          "model_module_version": "1.2.0",
          "model_name": "LayoutModel",
          "state": {
            "_model_module": "@jupyter-widgets/base",
            "_model_module_version": "1.2.0",
            "_model_name": "LayoutModel",
            "_view_count": null,
            "_view_module": "@jupyter-widgets/base",
            "_view_module_version": "1.2.0",
            "_view_name": "LayoutView",
            "align_content": null,
            "align_items": null,
            "align_self": null,
            "border": null,
            "bottom": null,
            "display": null,
            "flex": null,
            "flex_flow": null,
            "grid_area": null,
            "grid_auto_columns": null,
            "grid_auto_flow": null,
            "grid_auto_rows": null,
            "grid_column": null,
            "grid_gap": null,
            "grid_row": null,
            "grid_template_areas": null,
            "grid_template_columns": null,
            "grid_template_rows": null,
            "height": null,
            "justify_content": null,
            "justify_items": null,
            "left": null,
            "margin": null,
            "max_height": null,
            "max_width": null,
            "min_height": null,
            "min_width": null,
            "object_fit": null,
            "object_position": null,
            "order": null,
            "overflow": null,
            "overflow_x": null,
            "overflow_y": null,
            "padding": null,
            "right": null,
            "top": null,
            "visibility": null,
            "width": null
          }
        },
        "87348106b00b4894875ce86bf753dd59": {
          "model_module": "@jupyter-widgets/controls",
          "model_module_version": "1.5.0",
          "model_name": "HBoxModel",
          "state": {
            "_dom_classes": [],
            "_model_module": "@jupyter-widgets/controls",
            "_model_module_version": "1.5.0",
            "_model_name": "HBoxModel",
            "_view_count": null,
            "_view_module": "@jupyter-widgets/controls",
            "_view_module_version": "1.5.0",
            "_view_name": "HBoxView",
            "box_style": "",
            "children": [
              "IPY_MODEL_9cb897f4c96d4b3b8d0de431e6e84774",
              "IPY_MODEL_87bb5e26305a4f33b79816106bbb571c",
              "IPY_MODEL_901a398732f64770aff415f8f3a02cd3"
            ],
            "layout": "IPY_MODEL_adbf95f4f22740818efcfbdbe9836206"
          }
        },
        "87bb5e26305a4f33b79816106bbb571c": {
          "model_module": "@jupyter-widgets/controls",
          "model_module_version": "1.5.0",
          "model_name": "FloatProgressModel",
          "state": {
            "_dom_classes": [],
            "_model_module": "@jupyter-widgets/controls",
            "_model_module_version": "1.5.0",
            "_model_name": "FloatProgressModel",
            "_view_count": null,
            "_view_module": "@jupyter-widgets/controls",
            "_view_module_version": "1.5.0",
            "_view_name": "ProgressView",
            "bar_style": "success",
            "description": "",
            "description_tooltip": null,
            "layout": "IPY_MODEL_62e8d76ae3d24cfca563c6fd9ac760d3",
            "max": 83316686,
            "min": 0,
            "orientation": "horizontal",
            "style": "IPY_MODEL_d09ccf8d7ae34e11bb8a30a824a05e7b",
            "value": 83316686
          }
        },
        "901a398732f64770aff415f8f3a02cd3": {
          "model_module": "@jupyter-widgets/controls",
          "model_module_version": "1.5.0",
          "model_name": "HTMLModel",
          "state": {
            "_dom_classes": [],
            "_model_module": "@jupyter-widgets/controls",
            "_model_module_version": "1.5.0",
            "_model_name": "HTMLModel",
            "_view_count": null,
            "_view_module": "@jupyter-widgets/controls",
            "_view_module_version": "1.5.0",
            "_view_name": "HTMLView",
            "description": "",
            "description_tooltip": null,
            "layout": "IPY_MODEL_538f529cc89c40f6844035aaadb819ae",
            "placeholder": "​",
            "style": "IPY_MODEL_edd3ce22d0de4d8c8a792bc5729383eb",
            "value": " 83.3M/83.3M [00:01&lt;00:00, 45.5MB/s]"
          }
        },
        "9b9e69114ae0434b8e6b9904ad5e3063": {
          "model_module": "@jupyter-widgets/controls",
          "model_module_version": "1.5.0",
          "model_name": "HTMLModel",
          "state": {
            "_dom_classes": [],
            "_model_module": "@jupyter-widgets/controls",
            "_model_module_version": "1.5.0",
            "_model_name": "HTMLModel",
            "_view_count": null,
            "_view_module": "@jupyter-widgets/controls",
            "_view_module_version": "1.5.0",
            "_view_name": "HTMLView",
            "description": "",
            "description_tooltip": null,
            "layout": "IPY_MODEL_46e00648b50d44da94209ff2d1c6ff73",
            "placeholder": "​",
            "style": "IPY_MODEL_7c7a6ea6e6de4a7284fb64829e24b031",
            "value": "classifier.ckpt: 100%"
          }
        },
        "9cb897f4c96d4b3b8d0de431e6e84774": {
          "model_module": "@jupyter-widgets/controls",
          "model_module_version": "1.5.0",
          "model_name": "HTMLModel",
          "state": {
            "_dom_classes": [],
            "_model_module": "@jupyter-widgets/controls",
            "_model_module_version": "1.5.0",
            "_model_name": "HTMLModel",
            "_view_count": null,
            "_view_module": "@jupyter-widgets/controls",
            "_view_module_version": "1.5.0",
            "_view_name": "HTMLView",
            "description": "",
            "description_tooltip": null,
            "layout": "IPY_MODEL_d8aec8dd20b340668bc668d63b195edd",
            "placeholder": "​",
            "style": "IPY_MODEL_dc48ba53713343f08678b622087895d0",
            "value": "embedding_model.ckpt: 100%"
          }
        },
        "9ed5787a1497402e87792848e318de7c": {
          "model_module": "@jupyter-widgets/controls",
          "model_module_version": "1.5.0",
          "model_name": "HBoxModel",
          "state": {
            "_dom_classes": [],
            "_model_module": "@jupyter-widgets/controls",
            "_model_module_version": "1.5.0",
            "_model_name": "HBoxModel",
            "_view_count": null,
            "_view_module": "@jupyter-widgets/controls",
            "_view_module_version": "1.5.0",
            "_view_name": "HBoxView",
            "box_style": "",
            "children": [
              "IPY_MODEL_2b25a28271464f44a622bf949444df3d",
              "IPY_MODEL_01adb1a7462f4ff2958ae9ba9e63f3c6",
              "IPY_MODEL_d67e69c210e948ddacfd8a919e317acb"
            ],
            "layout": "IPY_MODEL_864131c8de5647f0bafa00b3cf527611"
          }
        },
        "a6486dacaee24ebfbabc0ac74a8113f4": {
          "model_module": "@jupyter-widgets/base",
          "model_module_version": "1.2.0",
          "model_name": "LayoutModel",
          "state": {
            "_model_module": "@jupyter-widgets/base",
            "_model_module_version": "1.2.0",
            "_model_name": "LayoutModel",
            "_view_count": null,
            "_view_module": "@jupyter-widgets/base",
            "_view_module_version": "1.2.0",
            "_view_name": "LayoutView",
            "align_content": null,
            "align_items": null,
            "align_self": null,
            "border": null,
            "bottom": null,
            "display": null,
            "flex": null,
            "flex_flow": null,
            "grid_area": null,
            "grid_auto_columns": null,
            "grid_auto_flow": null,
            "grid_auto_rows": null,
            "grid_column": null,
            "grid_gap": null,
            "grid_row": null,
            "grid_template_areas": null,
            "grid_template_columns": null,
            "grid_template_rows": null,
            "height": null,
            "justify_content": null,
            "justify_items": null,
            "left": null,
            "margin": null,
            "max_height": null,
            "max_width": null,
            "min_height": null,
            "min_width": null,
            "object_fit": null,
            "object_position": null,
            "order": null,
            "overflow": null,
            "overflow_x": null,
            "overflow_y": null,
            "padding": null,
            "right": null,
            "top": null,
            "visibility": null,
            "width": null
          }
        },
        "adbf95f4f22740818efcfbdbe9836206": {
          "model_module": "@jupyter-widgets/base",
          "model_module_version": "1.2.0",
          "model_name": "LayoutModel",
          "state": {
            "_model_module": "@jupyter-widgets/base",
            "_model_module_version": "1.2.0",
            "_model_name": "LayoutModel",
            "_view_count": null,
            "_view_module": "@jupyter-widgets/base",
            "_view_module_version": "1.2.0",
            "_view_name": "LayoutView",
            "align_content": null,
            "align_items": null,
            "align_self": null,
            "border": null,
            "bottom": null,
            "display": null,
            "flex": null,
            "flex_flow": null,
            "grid_area": null,
            "grid_auto_columns": null,
            "grid_auto_flow": null,
            "grid_auto_rows": null,
            "grid_column": null,
            "grid_gap": null,
            "grid_row": null,
            "grid_template_areas": null,
            "grid_template_columns": null,
            "grid_template_rows": null,
            "height": null,
            "justify_content": null,
            "justify_items": null,
            "left": null,
            "margin": null,
            "max_height": null,
            "max_width": null,
            "min_height": null,
            "min_width": null,
            "object_fit": null,
            "object_position": null,
            "order": null,
            "overflow": null,
            "overflow_x": null,
            "overflow_y": null,
            "padding": null,
            "right": null,
            "top": null,
            "visibility": null,
            "width": null
          }
        },
        "b3935b40383c4f8cbb023299a041abe1": {
          "model_module": "@jupyter-widgets/controls",
          "model_module_version": "1.5.0",
          "model_name": "FloatProgressModel",
          "state": {
            "_dom_classes": [],
            "_model_module": "@jupyter-widgets/controls",
            "_model_module_version": "1.5.0",
            "_model_name": "FloatProgressModel",
            "_view_count": null,
            "_view_module": "@jupyter-widgets/controls",
            "_view_module_version": "1.5.0",
            "_view_name": "ProgressView",
            "bar_style": "success",
            "description": "",
            "description_tooltip": null,
            "layout": "IPY_MODEL_05fa473c11db4b86b920c7e951b027de",
            "max": 128619,
            "min": 0,
            "orientation": "horizontal",
            "style": "IPY_MODEL_43b5fddf32be498994abd37644d5c338",
            "value": 128619
          }
        },
        "bb74fdf7ae0b425083db3c1838c154ad": {
          "model_module": "@jupyter-widgets/controls",
          "model_module_version": "1.5.0",
          "model_name": "DescriptionStyleModel",
          "state": {
            "_model_module": "@jupyter-widgets/controls",
            "_model_module_version": "1.5.0",
            "_model_name": "DescriptionStyleModel",
            "_view_count": null,
            "_view_module": "@jupyter-widgets/base",
            "_view_module_version": "1.2.0",
            "_view_name": "StyleView",
            "description_width": ""
          }
        },
        "be62150192ab42f9ac1becfb40f25d93": {
          "model_module": "@jupyter-widgets/controls",
          "model_module_version": "1.5.0",
          "model_name": "FloatProgressModel",
          "state": {
            "_dom_classes": [],
            "_model_module": "@jupyter-widgets/controls",
            "_model_module_version": "1.5.0",
            "_model_name": "FloatProgressModel",
            "_view_count": null,
            "_view_module": "@jupyter-widgets/controls",
            "_view_module_version": "1.5.0",
            "_view_name": "ProgressView",
            "bar_style": "success",
            "description": "",
            "description_tooltip": null,
            "layout": "IPY_MODEL_466f97fcc4914c468e0c22dab1f77de4",
            "max": 1921,
            "min": 0,
            "orientation": "horizontal",
            "style": "IPY_MODEL_00bbd2b3fc48456782d7c80e078331b6",
            "value": 1921
          }
        },
        "c10dec149789438c98cced403612ee76": {
          "model_module": "@jupyter-widgets/base",
          "model_module_version": "1.2.0",
          "model_name": "LayoutModel",
          "state": {
            "_model_module": "@jupyter-widgets/base",
            "_model_module_version": "1.2.0",
            "_model_name": "LayoutModel",
            "_view_count": null,
            "_view_module": "@jupyter-widgets/base",
            "_view_module_version": "1.2.0",
            "_view_name": "LayoutView",
            "align_content": null,
            "align_items": null,
            "align_self": null,
            "border": null,
            "bottom": null,
            "display": null,
            "flex": null,
            "flex_flow": null,
            "grid_area": null,
            "grid_auto_columns": null,
            "grid_auto_flow": null,
            "grid_auto_rows": null,
            "grid_column": null,
            "grid_gap": null,
            "grid_row": null,
            "grid_template_areas": null,
            "grid_template_columns": null,
            "grid_template_rows": null,
            "height": null,
            "justify_content": null,
            "justify_items": null,
            "left": null,
            "margin": null,
            "max_height": null,
            "max_width": null,
            "min_height": null,
            "min_width": null,
            "object_fit": null,
            "object_position": null,
            "order": null,
            "overflow": null,
            "overflow_x": null,
            "overflow_y": null,
            "padding": null,
            "right": null,
            "top": null,
            "visibility": null,
            "width": null
          }
        },
        "c588dc977f77445489ff6341b7fc0e6a": {
          "model_module": "@jupyter-widgets/controls",
          "model_module_version": "1.5.0",
          "model_name": "DescriptionStyleModel",
          "state": {
            "_model_module": "@jupyter-widgets/controls",
            "_model_module_version": "1.5.0",
            "_model_name": "DescriptionStyleModel",
            "_view_count": null,
            "_view_module": "@jupyter-widgets/base",
            "_view_module_version": "1.2.0",
            "_view_name": "StyleView",
            "description_width": ""
          }
        },
        "cb816a6cab334d68b6df2682fa8519d6": {
          "model_module": "@jupyter-widgets/controls",
          "model_module_version": "1.5.0",
          "model_name": "HTMLModel",
          "state": {
            "_dom_classes": [],
            "_model_module": "@jupyter-widgets/controls",
            "_model_module_version": "1.5.0",
            "_model_name": "HTMLModel",
            "_view_count": null,
            "_view_module": "@jupyter-widgets/controls",
            "_view_module_version": "1.5.0",
            "_view_name": "HTMLView",
            "description": "",
            "description_tooltip": null,
            "layout": "IPY_MODEL_0c1845aaf24e42d9aa0f6ba85c27e32b",
            "placeholder": "​",
            "style": "IPY_MODEL_c588dc977f77445489ff6341b7fc0e6a",
            "value": "label_encoder.txt: 100%"
          }
        },
        "ce1316f634564f4aafa4cbfd2c65d440": {
          "model_module": "@jupyter-widgets/controls",
          "model_module_version": "1.5.0",
          "model_name": "ProgressStyleModel",
          "state": {
            "_model_module": "@jupyter-widgets/controls",
            "_model_module_version": "1.5.0",
            "_model_name": "ProgressStyleModel",
            "_view_count": null,
            "_view_module": "@jupyter-widgets/base",
            "_view_module_version": "1.2.0",
            "_view_name": "StyleView",
            "bar_color": null,
            "description_width": ""
          }
        },
        "cf3768b96624431aa2456483dc289256": {
          "model_module": "@jupyter-widgets/controls",
          "model_module_version": "1.5.0",
          "model_name": "HBoxModel",
          "state": {
            "_dom_classes": [],
            "_model_module": "@jupyter-widgets/controls",
            "_model_module_version": "1.5.0",
            "_model_name": "HBoxModel",
            "_view_count": null,
            "_view_module": "@jupyter-widgets/controls",
            "_view_module_version": "1.5.0",
            "_view_name": "HBoxView",
            "box_style": "",
            "children": [
              "IPY_MODEL_cb816a6cab334d68b6df2682fa8519d6",
              "IPY_MODEL_b3935b40383c4f8cbb023299a041abe1",
              "IPY_MODEL_7cb6ade5e7b94526a53055163e11e777"
            ],
            "layout": "IPY_MODEL_d7cca83e70f643c991f49b2e76431502"
          }
        },
        "d09ccf8d7ae34e11bb8a30a824a05e7b": {
          "model_module": "@jupyter-widgets/controls",
          "model_module_version": "1.5.0",
          "model_name": "ProgressStyleModel",
          "state": {
            "_model_module": "@jupyter-widgets/controls",
            "_model_module_version": "1.5.0",
            "_model_name": "ProgressStyleModel",
            "_view_count": null,
            "_view_module": "@jupyter-widgets/base",
            "_view_module_version": "1.2.0",
            "_view_name": "StyleView",
            "bar_color": null,
            "description_width": ""
          }
        },
        "d1aad718dc3f4affbae5d4cd1fecf4e6": {
          "model_module": "@jupyter-widgets/base",
          "model_module_version": "1.2.0",
          "model_name": "LayoutModel",
          "state": {
            "_model_module": "@jupyter-widgets/base",
            "_model_module_version": "1.2.0",
            "_model_name": "LayoutModel",
            "_view_count": null,
            "_view_module": "@jupyter-widgets/base",
            "_view_module_version": "1.2.0",
            "_view_name": "LayoutView",
            "align_content": null,
            "align_items": null,
            "align_self": null,
            "border": null,
            "bottom": null,
            "display": null,
            "flex": null,
            "flex_flow": null,
            "grid_area": null,
            "grid_auto_columns": null,
            "grid_auto_flow": null,
            "grid_auto_rows": null,
            "grid_column": null,
            "grid_gap": null,
            "grid_row": null,
            "grid_template_areas": null,
            "grid_template_columns": null,
            "grid_template_rows": null,
            "height": null,
            "justify_content": null,
            "justify_items": null,
            "left": null,
            "margin": null,
            "max_height": null,
            "max_width": null,
            "min_height": null,
            "min_width": null,
            "object_fit": null,
            "object_position": null,
            "order": null,
            "overflow": null,
            "overflow_x": null,
            "overflow_y": null,
            "padding": null,
            "right": null,
            "top": null,
            "visibility": null,
            "width": null
          }
        },
        "d67e69c210e948ddacfd8a919e317acb": {
          "model_module": "@jupyter-widgets/controls",
          "model_module_version": "1.5.0",
          "model_name": "HTMLModel",
          "state": {
            "_dom_classes": [],
            "_model_module": "@jupyter-widgets/controls",
            "_model_module_version": "1.5.0",
            "_model_name": "HTMLModel",
            "_view_count": null,
            "_view_module": "@jupyter-widgets/controls",
            "_view_module_version": "1.5.0",
            "_view_name": "HTMLView",
            "description": "",
            "description_tooltip": null,
            "layout": "IPY_MODEL_de15ab7300044c1793a6e06d5b0370ff",
            "placeholder": "​",
            "style": "IPY_MODEL_bb74fdf7ae0b425083db3c1838c154ad",
            "value": " 1.92k/1.92k [00:00&lt;00:00, 22.8kB/s]"
          }
        },
        "d7cca83e70f643c991f49b2e76431502": {
          "model_module": "@jupyter-widgets/base",
          "model_module_version": "1.2.0",
          "model_name": "LayoutModel",
          "state": {
            "_model_module": "@jupyter-widgets/base",
            "_model_module_version": "1.2.0",
            "_model_name": "LayoutModel",
            "_view_count": null,
            "_view_module": "@jupyter-widgets/base",
            "_view_module_version": "1.2.0",
            "_view_name": "LayoutView",
            "align_content": null,
            "align_items": null,
            "align_self": null,
            "border": null,
            "bottom": null,
            "display": null,
            "flex": null,
            "flex_flow": null,
            "grid_area": null,
            "grid_auto_columns": null,
            "grid_auto_flow": null,
            "grid_auto_rows": null,
            "grid_column": null,
            "grid_gap": null,
            "grid_row": null,
            "grid_template_areas": null,
            "grid_template_columns": null,
            "grid_template_rows": null,
            "height": null,
            "justify_content": null,
            "justify_items": null,
            "left": null,
            "margin": null,
            "max_height": null,
            "max_width": null,
            "min_height": null,
            "min_width": null,
            "object_fit": null,
            "object_position": null,
            "order": null,
            "overflow": null,
            "overflow_x": null,
            "overflow_y": null,
            "padding": null,
            "right": null,
            "top": null,
            "visibility": null,
            "width": null
          }
        },
        "d89daeb37a4f42f1b392875c9e5db3c7": {
          "model_module": "@jupyter-widgets/controls",
          "model_module_version": "1.5.0",
          "model_name": "ProgressStyleModel",
          "state": {
            "_model_module": "@jupyter-widgets/controls",
            "_model_module_version": "1.5.0",
            "_model_name": "ProgressStyleModel",
            "_view_count": null,
            "_view_module": "@jupyter-widgets/base",
            "_view_module_version": "1.2.0",
            "_view_name": "StyleView",
            "bar_color": null,
            "description_width": ""
          }
        },
        "d8aec8dd20b340668bc668d63b195edd": {
          "model_module": "@jupyter-widgets/base",
          "model_module_version": "1.2.0",
          "model_name": "LayoutModel",
          "state": {
            "_model_module": "@jupyter-widgets/base",
            "_model_module_version": "1.2.0",
            "_model_name": "LayoutModel",
            "_view_count": null,
            "_view_module": "@jupyter-widgets/base",
            "_view_module_version": "1.2.0",
            "_view_name": "LayoutView",
            "align_content": null,
            "align_items": null,
            "align_self": null,
            "border": null,
            "bottom": null,
            "display": null,
            "flex": null,
            "flex_flow": null,
            "grid_area": null,
            "grid_auto_columns": null,
            "grid_auto_flow": null,
            "grid_auto_rows": null,
            "grid_column": null,
            "grid_gap": null,
            "grid_row": null,
            "grid_template_areas": null,
            "grid_template_columns": null,
            "grid_template_rows": null,
            "height": null,
            "justify_content": null,
            "justify_items": null,
            "left": null,
            "margin": null,
            "max_height": null,
            "max_width": null,
            "min_height": null,
            "min_width": null,
            "object_fit": null,
            "object_position": null,
            "order": null,
            "overflow": null,
            "overflow_x": null,
            "overflow_y": null,
            "padding": null,
            "right": null,
            "top": null,
            "visibility": null,
            "width": null
          }
        },
        "d915bcd40161404b804a812bd61b0b1b": {
          "model_module": "@jupyter-widgets/controls",
          "model_module_version": "1.5.0",
          "model_name": "HBoxModel",
          "state": {
            "_dom_classes": [],
            "_model_module": "@jupyter-widgets/controls",
            "_model_module_version": "1.5.0",
            "_model_name": "HBoxModel",
            "_view_count": null,
            "_view_module": "@jupyter-widgets/controls",
            "_view_module_version": "1.5.0",
            "_view_name": "HBoxView",
            "box_style": "",
            "children": [
              "IPY_MODEL_e028217f1c364237848a9e85d6ef04ed",
              "IPY_MODEL_be62150192ab42f9ac1becfb40f25d93",
              "IPY_MODEL_55d6e1bfc3ec4e9f873f1d3dcc92828e"
            ],
            "layout": "IPY_MODEL_c10dec149789438c98cced403612ee76"
          }
        },
        "dc48ba53713343f08678b622087895d0": {
          "model_module": "@jupyter-widgets/controls",
          "model_module_version": "1.5.0",
          "model_name": "DescriptionStyleModel",
          "state": {
            "_model_module": "@jupyter-widgets/controls",
            "_model_module_version": "1.5.0",
            "_model_name": "DescriptionStyleModel",
            "_view_count": null,
            "_view_module": "@jupyter-widgets/base",
            "_view_module_version": "1.2.0",
            "_view_name": "StyleView",
            "description_width": ""
          }
        },
        "dde91106e88d41b380f5c0c8a6d833c8": {
          "model_module": "@jupyter-widgets/controls",
          "model_module_version": "1.5.0",
          "model_name": "DescriptionStyleModel",
          "state": {
            "_model_module": "@jupyter-widgets/controls",
            "_model_module_version": "1.5.0",
            "_model_name": "DescriptionStyleModel",
            "_view_count": null,
            "_view_module": "@jupyter-widgets/base",
            "_view_module_version": "1.2.0",
            "_view_name": "StyleView",
            "description_width": ""
          }
        },
        "de15ab7300044c1793a6e06d5b0370ff": {
          "model_module": "@jupyter-widgets/base",
          "model_module_version": "1.2.0",
          "model_name": "LayoutModel",
          "state": {
            "_model_module": "@jupyter-widgets/base",
            "_model_module_version": "1.2.0",
            "_model_name": "LayoutModel",
            "_view_count": null,
            "_view_module": "@jupyter-widgets/base",
            "_view_module_version": "1.2.0",
            "_view_name": "LayoutView",
            "align_content": null,
            "align_items": null,
            "align_self": null,
            "border": null,
            "bottom": null,
            "display": null,
            "flex": null,
            "flex_flow": null,
            "grid_area": null,
            "grid_auto_columns": null,
            "grid_auto_flow": null,
            "grid_auto_rows": null,
            "grid_column": null,
            "grid_gap": null,
            "grid_row": null,
            "grid_template_areas": null,
            "grid_template_columns": null,
            "grid_template_rows": null,
            "height": null,
            "justify_content": null,
            "justify_items": null,
            "left": null,
            "margin": null,
            "max_height": null,
            "max_width": null,
            "min_height": null,
            "min_width": null,
            "object_fit": null,
            "object_position": null,
            "order": null,
            "overflow": null,
            "overflow_x": null,
            "overflow_y": null,
            "padding": null,
            "right": null,
            "top": null,
            "visibility": null,
            "width": null
          }
        },
        "e028217f1c364237848a9e85d6ef04ed": {
          "model_module": "@jupyter-widgets/controls",
          "model_module_version": "1.5.0",
          "model_name": "HTMLModel",
          "state": {
            "_dom_classes": [],
            "_model_module": "@jupyter-widgets/controls",
            "_model_module_version": "1.5.0",
            "_model_name": "HTMLModel",
            "_view_count": null,
            "_view_module": "@jupyter-widgets/controls",
            "_view_module_version": "1.5.0",
            "_view_name": "HTMLView",
            "description": "",
            "description_tooltip": null,
            "layout": "IPY_MODEL_2d559822437b405b8adddc020ef4bb57",
            "placeholder": "​",
            "style": "IPY_MODEL_dde91106e88d41b380f5c0c8a6d833c8",
            "value": "mean_var_norm_emb.ckpt: 100%"
          }
        },
        "e1108fd4a7f64e7084a339b781c8cea5": {
          "model_module": "@jupyter-widgets/base",
          "model_module_version": "1.2.0",
          "model_name": "LayoutModel",
          "state": {
            "_model_module": "@jupyter-widgets/base",
            "_model_module_version": "1.2.0",
            "_model_name": "LayoutModel",
            "_view_count": null,
            "_view_module": "@jupyter-widgets/base",
            "_view_module_version": "1.2.0",
            "_view_name": "LayoutView",
            "align_content": null,
            "align_items": null,
            "align_self": null,
            "border": null,
            "bottom": null,
            "display": null,
            "flex": null,
            "flex_flow": null,
            "grid_area": null,
            "grid_auto_columns": null,
            "grid_auto_flow": null,
            "grid_auto_rows": null,
            "grid_column": null,
            "grid_gap": null,
            "grid_row": null,
            "grid_template_areas": null,
            "grid_template_columns": null,
            "grid_template_rows": null,
            "height": null,
            "justify_content": null,
            "justify_items": null,
            "left": null,
            "margin": null,
            "max_height": null,
            "max_width": null,
            "min_height": null,
            "min_width": null,
            "object_fit": null,
            "object_position": null,
            "order": null,
            "overflow": null,
            "overflow_x": null,
            "overflow_y": null,
            "padding": null,
            "right": null,
            "top": null,
            "visibility": null,
            "width": null
          }
        },
        "e6a009e6b4e14bc7a876a721f72d66df": {
          "model_module": "@jupyter-widgets/controls",
          "model_module_version": "1.5.0",
          "model_name": "HBoxModel",
          "state": {
            "_dom_classes": [],
            "_model_module": "@jupyter-widgets/controls",
            "_model_module_version": "1.5.0",
            "_model_name": "HBoxModel",
            "_view_count": null,
            "_view_module": "@jupyter-widgets/controls",
            "_view_module_version": "1.5.0",
            "_view_name": "HBoxView",
            "box_style": "",
            "children": [
              "IPY_MODEL_9b9e69114ae0434b8e6b9904ad5e3063",
              "IPY_MODEL_216292cc8d864a5d815e04d52aa3eae4",
              "IPY_MODEL_7a56121eba934b3688f0437adda85655"
            ],
            "layout": "IPY_MODEL_5c1f03ad4121467eba947bf6e5f5d577"
          }
        },
        "e97fda45244d4133827d27548df46cba": {
          "model_module": "@jupyter-widgets/controls",
          "model_module_version": "1.5.0",
          "model_name": "DescriptionStyleModel",
          "state": {
            "_model_module": "@jupyter-widgets/controls",
            "_model_module_version": "1.5.0",
            "_model_name": "DescriptionStyleModel",
            "_view_count": null,
            "_view_module": "@jupyter-widgets/base",
            "_view_module_version": "1.2.0",
            "_view_name": "StyleView",
            "description_width": ""
          }
        },
        "edd3ce22d0de4d8c8a792bc5729383eb": {
          "model_module": "@jupyter-widgets/controls",
          "model_module_version": "1.5.0",
          "model_name": "DescriptionStyleModel",
          "state": {
            "_model_module": "@jupyter-widgets/controls",
            "_model_module_version": "1.5.0",
            "_model_name": "DescriptionStyleModel",
            "_view_count": null,
            "_view_module": "@jupyter-widgets/base",
            "_view_module_version": "1.2.0",
            "_view_name": "StyleView",
            "description_width": ""
          }
        }
      }
    }
  },
  "nbformat": 4,
  "nbformat_minor": 0
}
